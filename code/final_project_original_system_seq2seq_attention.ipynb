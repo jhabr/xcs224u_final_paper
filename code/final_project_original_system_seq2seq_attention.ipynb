{
 "cells": [
  {
   "cell_type": "markdown",
   "id": "strong-aquatic",
   "metadata": {},
   "source": [
    "# Import Libraries"
   ]
  },
  {
   "cell_type": "code",
   "execution_count": 1,
   "id": "earlier-blair",
   "metadata": {},
   "outputs": [],
   "source": [
    "from colors import ColorsCorpusReader\n",
    "from nltk.translate.bleu_score import corpus_bleu\n",
    "from collections import Counter\n",
    "import re\n",
    "import torch.nn as nn\n",
    "import numpy as np\n",
    "import os\n",
    "from sklearn.model_selection import train_test_split\n",
    "from scipy.fft import fft\n",
    "import colorsys\n",
    "from itertools import product\n",
    "from torch_color_describer import (ContextualColorDescriber, create_example_dataset)\n",
    "import utils\n",
    "from utils import START_SYMBOL, END_SYMBOL, UNK_SYMBOL\n",
    "%load_ext autoreload"
   ]
  },
  {
   "cell_type": "markdown",
   "id": "unique-triangle",
   "metadata": {},
   "source": [
    "# Tokenizer & Color Representation from HW 4 - Is my FFT right?"
   ]
  },
  {
   "cell_type": "code",
   "execution_count": 5,
   "id": "acknowledged-rings",
   "metadata": {},
   "outputs": [],
   "source": [
    "def tokenize_example(s,counts={}):\n",
    "\n",
    "    # Lower Case the String (Monroe et al. 2017 paper)\n",
    "    s = s.lower()\n",
    "    # split endings -er, -ish, -est\n",
    "    trimmed = []\n",
    "    for word in s.split():\n",
    "        if word.endswith(\"er\"):\n",
    "            trimmed.extend([word[:-2],\"er\"])\n",
    "        elif word.endswith(\"ish\"):\n",
    "            trimmed.extend([word[:-3],\"ish\"])\n",
    "        elif word.endswith(\"est\"):\n",
    "            trimmed.extend([word[:-3],\"est\"])\n",
    "        else:\n",
    "            trimmed.append(word)\n",
    "    s = \" \".join(trimmed)\n",
    "\n",
    "    # split punctuation (Monroe et al. 2017 paper)\n",
    "    s = re.findall(r\"[\\w']+|[.,!?;]\", s)\n",
    "\n",
    "    ## If the word only appears once in text corpus, set to UNK_SYMBOL (Monroe et al. 2017 paper)\n",
    "    if len(counts)!=0:\n",
    "        for index in range(0,len(s)):\n",
    "            if counts[s[index]]==1:\n",
    "                s[index]=UNK_SYMBOL\n",
    "\n",
    "    return [START_SYMBOL] + s + [END_SYMBOL]\n",
    "def represent_color_context(colors):\n",
    "\n",
    "# Improve me!\n",
    "\n",
    "    return [represent_color(color) for color in colors]\n",
    "\n",
    "def represent_color(color):\n",
    "\n",
    "    rgb = colorsys.hls_to_rgb(color[0],color[1],color[2])\n",
    "    hsv = colorsys.rgb_to_hsv(rgb[0],rgb[1],rgb[2])\n",
    "    color = []\n",
    "    for j, k, l in product((0, 1, 2), repeat=3): \n",
    "        f_ijk = fft([j*hsv[0]+k*hsv[1]+l*hsv[2]])\n",
    "        color.extend([f_ijk.real[0],f_ijk.imag[0]])\n",
    "    color = np.array(color)\n",
    "    return color"
   ]
  },
  {
   "cell_type": "markdown",
   "id": "approved-senate",
   "metadata": {},
   "source": [
    "# Load Data, Tokenize Sequences, Represent Colors"
   ]
  },
  {
   "cell_type": "code",
   "execution_count": 6,
   "id": "meaningful-county",
   "metadata": {},
   "outputs": [],
   "source": [
    "utils.fix_random_seeds()\n",
    "COLORS_SRC_FILENAME = os.path.join(\n",
    "    \"data\", \"colors\", \"filteredCorpus.csv\")\n",
    "\n",
    "dev_corpus = ColorsCorpusReader(\n",
    "    COLORS_SRC_FILENAME,\n",
    "    word_count=2,\n",
    "    normalize_colors=True)\n",
    "\n",
    "dev_examples = list(dev_corpus.read())\n",
    "dev_rawcols, dev_texts = zip(*[[ex.colors, ex.contents] for ex in dev_examples])\n",
    "dev_rawcols_train, dev_rawcols_test, dev_texts_train, dev_texts_test = \\\n",
    "    train_test_split(dev_rawcols, dev_texts)\n",
    "counts = Counter()\n",
    "# Get counts in train vocaab\n",
    "for sentence in dev_texts_train:\n",
    "    counts.update(word.strip('.,?!\"\\'').lower() for word in sentence.split())\n",
    "    \n",
    "\n",
    "dev_seqs_train = [tokenize_example(s,counts) for s in dev_texts_train]\n",
    "dev_seqs_test = [tokenize_example(s,counts) for s in dev_texts_test]\n",
    "dev_cols_train = [represent_color_context(colors) for colors in dev_rawcols_train]\n",
    "dev_cols_test = [represent_color_context(colors) for colors in dev_rawcols_test]\n",
    "dev_vocab = sorted({w for toks in dev_seqs_train for w in toks})\n",
    "dev_vocab += [UNK_SYMBOL]"
   ]
  },
  {
   "cell_type": "markdown",
   "id": "collected-throat",
   "metadata": {},
   "source": [
    "#  LSTM Encoder"
   ]
  },
  {
   "cell_type": "code",
   "execution_count": 8,
   "id": "circular-trash",
   "metadata": {},
   "outputs": [],
   "source": [
    "%autoreload 2\n",
    "class OriginalEncoder(nn.Module):\n",
    "    def __init__(self, color_dim, hidden_dim,embedding_proj):\n",
    "        \"\"\"\n",
    "        Simple Encoder model based on a GRU cell.\n",
    "\n",
    "        Parameters\n",
    "        ----------\n",
    "        color_dim : int\n",
    "\n",
    "        hidden_dim : int\n",
    "\n",
    "        \"\"\"\n",
    "        super().__init__()\n",
    "        self.color_dim = color_dim\n",
    "        self.hidden_dim = hidden_dim\n",
    "        self.embedding_proj = embedding_proj\n",
    "\n",
    "#         self.linear = nn.Linear(self.color_dim,self.embedding_proj)\n",
    "        self.rnn = nn.LSTM(\n",
    "            input_size=self.color_dim,\n",
    "            hidden_size=self.hidden_dim,\n",
    "            batch_first=True)\n",
    "\n",
    "    def forward(self, color_seqs):\n",
    "        \"\"\"\n",
    "        Parameters\n",
    "        ----------\n",
    "        color_seqs : torch.FloatTensor\n",
    "            The shape is `(m, n, p)` where `m` is the batch_size,\n",
    "             `n` is the number of colors in each context, and `p` is\n",
    "             the color dimensionality.\n",
    "\n",
    "        Returns\n",
    "        -------\n",
    "        hidden : torch.FloatTensor\n",
    "            These are the final hidden state of the RNN for this batch,\n",
    "            shape `(m, p) where `m` is the batch_size and `p` is\n",
    "             the color dimensionality.\n",
    "\n",
    "        \"\"\"\n",
    "        output, hidden = self.rnn(color_seqs)\n",
    "\n",
    "        return output,hidden"
   ]
  },
  {
   "cell_type": "markdown",
   "id": "harmful-train",
   "metadata": {},
   "source": [
    "# Encoder-Decoder Training Scheme"
   ]
  },
  {
   "cell_type": "code",
   "execution_count": 56,
   "id": "adaptive-buffalo",
   "metadata": {},
   "outputs": [],
   "source": [
    "%autoreload 2\n",
    "\n",
    "from torch_color_describer import EncoderDecoder\n",
    "\n",
    "class ColorizedEncoderDecoder(EncoderDecoder):\n",
    "\n",
    "    def forward(self,\n",
    "            color_seqs,\n",
    "            word_seqs,\n",
    "            seq_lengths=None,\n",
    "            hidden=None,\n",
    "            output=None,\n",
    "            targets=None):\n",
    "#         if hidden is None and output is None:\n",
    "        output,hidden = self.encoder(color_seqs)\n",
    "            \n",
    "        # Extract the target colors from `color_seqs` and\n",
    "        # feed them to the decoder, which already has a\n",
    "        # `target_colors` keyword.\n",
    "        target_colors = color_seqs[:,2,:]\n",
    "        output, hidden = self.decoder.forward(word_seqs,\n",
    "                                              seq_lengths=seq_lengths, \n",
    "                                              hidden=hidden,\n",
    "                                              enc_outputs=output,\n",
    "                                              target_colors = target_colors)\n",
    "        \n",
    "        # Your decoder will return `output, hidden` pairs; the\n",
    "        # following will handle the two return situations that\n",
    "        # the code needs to consider -- training and prediction.\n",
    "        if self.training:\n",
    "            return output\n",
    "        else:\n",
    "            return output, hidden"
   ]
  },
  {
   "cell_type": "markdown",
   "id": "reasonable-framework",
   "metadata": {},
   "source": [
    "# Build Graph "
   ]
  },
  {
   "cell_type": "code",
   "execution_count": 55,
   "id": "isolated-manhattan",
   "metadata": {},
   "outputs": [],
   "source": [
    "%autoreload 2\n",
    "class ColorizedInputDescriberOriginal(ContextualColorDescriber):\n",
    "        def __init__(self, *args, num_layers=2, **kwargs):\n",
    "            self.num_layers = num_layers\n",
    "            super().__init__(*args, **kwargs)\n",
    "\n",
    "        def build_graph(self):\n",
    "\n",
    "            # We didn't modify the encoder, so this is\n",
    "            # just copied over from the original:\n",
    "            # hidden dim of 100 from paper\n",
    "            encoder = OriginalEncoder(\n",
    "                color_dim=self.color_dim,\n",
    "                hidden_dim=100,\n",
    "                embedding_proj=100)\n",
    "\n",
    "            # Use your `ColorContextDecoder`, making sure\n",
    "            # to pass in all the keyword arguments coming\n",
    "            # from `ColorizedInputDescriber`:\n",
    "\n",
    "\n",
    "            decoder = ColorContextDecoder(\n",
    "                vocab_size=self.vocab_size,\n",
    "                color_dim = self.color_dim, \n",
    "                embed_dim=self.embed_dim,\n",
    "                embedding=self.embedding,\n",
    "                hidden_dim=100,\n",
    "                freeze_embedding=False)\n",
    "\n",
    "            self.embed_dim = decoder.embed_dim\n",
    "\n",
    "            return ColorizedEncoderDecoder(encoder, decoder)"
   ]
  },
  {
   "cell_type": "markdown",
   "id": "thorough-catering",
   "metadata": {},
   "source": [
    "# Decoder with Bahdanau Attention\n",
    "## A lot of resources, this seemed to me most valuable https://blog.floydhub.com/attention-mechanism/"
   ]
  },
  {
   "cell_type": "code",
   "execution_count": 68,
   "id": "narrow-basic",
   "metadata": {},
   "outputs": [
    {
     "name": "stdout",
     "output_type": "stream",
     "text": [
      "The autoreload extension is already loaded. To reload it, use:\n",
      "  %reload_ext autoreload\n"
     ]
    }
   ],
   "source": [
    "%load_ext autoreload\n",
    "%autoreload 2\n",
    "from torch_color_describer import Decoder\n",
    "import torch\n",
    "import torch.nn as nn\n",
    "import torch.nn.functional as F\n",
    "from torch_color_describer import (ContextualColorDescriber, create_example_dataset)\n",
    "\n",
    "class ColorContextDecoder(Decoder):\n",
    "    def __init__(self, color_dim, *args, **kwargs):\n",
    "        self.color_dim = color_dim\n",
    "        super().__init__(*args, **kwargs)\n",
    "\n",
    "        # Implementing Bahdanau attention - using single linear layer\n",
    "        # instead of one hidden layer for encoder outputs and 1 linear layer for decoder\n",
    "        self.attn = nn.Linear(self.hidden_dim * 2, self.hidden_dim )\n",
    "\n",
    "        self.V = nn.Parameter(torch.rand(self.hidden_dim))\n",
    "        self.input_size = self.embed_dim+self.color_dim+self.hidden_dim\n",
    "        self.rnn = nn.LSTM(\n",
    "            input_size=self.input_size,\n",
    "            hidden_size=self.hidden_dim,\n",
    "            batch_first=True)\n",
    "    \n",
    "    def get_embeddings(self, word_seqs, target_colors=None):\n",
    "        \"\"\"\n",
    "        You can assume that `target_colors` is a tensor of shape\n",
    "        (m, n), where m is the length of the batch (same as\n",
    "        `word_seqs.shape[0]`) and n is the dimensionality of the\n",
    "        color representations the model is using. The goal is\n",
    "        to attached each color vector i to each of the tokens in\n",
    "        the ith sequence of (the embedded version of) `word_seqs`.\n",
    "\n",
    "        \"\"\"\n",
    "        word_embeddings = self.embedding(word_seqs)\n",
    "        colors_repeated = torch.repeat_interleave(target_colors.unsqueeze(1),word_embeddings.shape[1],1)\n",
    "        combined = torch.cat((word_embeddings,colors_repeated),dim=2)\n",
    "        return combined\n",
    "    \n",
    "\n",
    "    def forward(self, word_seqs, seq_lengths=None, hidden=None, target_colors=None,enc_outputs=None):\n",
    "\n",
    "        embs = self.get_embeddings(word_seqs, target_colors=target_colors)\n",
    "        targ_seq_len = embs.shape[1]\n",
    "        src_len = enc_outputs.shape[1]\n",
    "        batch_size = enc_outputs.shape[0]\n",
    "        \n",
    "        output_tensor = torch.empty(batch_size,targ_seq_len,self.hidden_dim)\n",
    "\n",
    "        # Permute enc_outputs \n",
    "        enc_outputs = enc_outputs.permute(1,0,2)\n",
    "        if self.training:\n",
    "            \n",
    "            # Loop over each embedding so we can apply attention at each step\n",
    "            # There is probably a batch-wise way to do this, but was not straightforward\n",
    "            # for me to figure out\n",
    "            for targ in range(0,targ_seq_len):\n",
    "                # Target Embedding\n",
    "                target = embs[:,targ,:]\n",
    "                \n",
    "                # Decoder Hidden State - for first pass, decoder hidden state is last encoder hidden state\n",
    "                dec_hidden = hidden[0]\n",
    "\n",
    "                # Repeat Decoder Hidden State so we can \n",
    "                dec_hidden_rep = dec_hidden.repeat(src_len, 1, 1)\n",
    "                \n",
    "                # Concat decoder hidden state with encoder outputs\n",
    "                # Maybe instead of concat we need two sepearte hidden layers?\n",
    "                combined_hidden = torch.cat((dec_hidden_rep, enc_outputs), 2)\n",
    "                \n",
    "                # Calculating Alignment Scores\n",
    "\n",
    "                attn_weights = torch.tanh(self.attn(combined_hidden))\n",
    "                attn_weights = attn_weights.permute(1, 2, 0)\n",
    "                \n",
    "                #learnable vector to get alignment scores - repeat for size of batch\n",
    "                V = self.V.repeat(batch_size, 1).unsqueeze(1)\n",
    "                e = torch.bmm(V, attn_weights).squeeze(1)\n",
    "                \n",
    "                # Softmaxing alignment scores to get Attention weights\n",
    "                attn_applied = F.softmax(e, dim=1)\n",
    "\n",
    "                # Multiplying the Attention weights with encoder outputs to get the context vector\n",
    "\n",
    "                context_vector = torch.bmm(attn_applied.unsqueeze(1), enc_outputs.permute(1,0,2))\n",
    "                \n",
    "                # Concat context vector with input embeddings\n",
    "                rnn_input =  torch.cat((context_vector, target.unsqueeze(1)), 2) \n",
    "                ### Input to rnn\n",
    "                output, hidden = self.rnn(rnn_input, hidden)\n",
    "                \n",
    "                # assign output to output_tensor\n",
    "                output_tensor[:,targ,:] = output.squeeze(1)\n",
    "            # Linear Layer to score over words\n",
    "            output = self.output_layer(output_tensor)\n",
    "\n",
    "            # Drop the final element:\n",
    "            output=output[:, : -1, :]\n",
    "            # Reshape for the sake of the loss function:\n",
    "            output = output.transpose(1, 2)\n",
    "            return output, hidden\n",
    "        else:\n",
    "\n",
    "            embs = self.get_embeddings(word_seqs[:,0].unsqueeze(1), target_colors=target_colors)\n",
    "            for targ in range(0,word_seqs.shape[1]):\n",
    "                \n",
    "                # Decoder Hidden State - for first pass, decoder hidden state is last encoder hidden state\n",
    "                dec_hidden = hidden[0]\n",
    "\n",
    "                # Repeat Decoder Hidden State so we can \n",
    "                dec_hidden_rep = dec_hidden.repeat(src_len, 1, 1)\n",
    "                \n",
    "                # Concat decoder hidden state with encoder outputs\n",
    "                # Maybe instead of concat we need two sepearte hidden layers?\n",
    "                combined_hidden = torch.cat((dec_hidden_rep, enc_outputs), 2)\n",
    "                \n",
    "                # Calculating Alignment Scores\n",
    "\n",
    "                attn_weights = torch.tanh(self.attn(combined_hidden))\n",
    "                attn_weights = attn_weights.permute(1, 2, 0)\n",
    "                \n",
    "                # Repeat learnable vector V batch times\n",
    "                V = self.V.repeat(batch_size, 1).unsqueeze(1)\n",
    "                e = torch.bmm(V, attn_weights).squeeze(1)\n",
    "\n",
    "                # Softmaxing alignment scores to get Attention weights\n",
    "                attn_applied = F.softmax(e, dim=1)\n",
    "\n",
    "                # Multiplying the Attention weights with encoder outputs to get the context vector\n",
    "                context_vector = torch.bmm(attn_applied.unsqueeze(1), enc_outputs.permute(1,0,2))\n",
    "\n",
    "                # RNN Input \n",
    "                rnn_input =  torch.cat((context_vector, embs), 2)\n",
    "                \n",
    "                # Input to RNN\n",
    "                output, hidden = self.rnn(rnn_input, hidden)\n",
    "                \n",
    "                #filling output tensors with output predictions\n",
    "                output_tensor[:,targ,:] = output.squeeze(1)\n",
    "                output = self.output_layer(output)\n",
    "                \n",
    "                # We take the argmax across the last dimension to get the embedding\n",
    "                # we feed into the next iteration\n",
    "                predictions = output.argmax(2)\n",
    "                \n",
    "                # Get embedding from prediction\n",
    "                embs = self.get_embeddings(predictions, target_colors=target_colors)\n",
    "                \n",
    "            # Output linear layer to prohect output tensor onto vocabular\n",
    "            output = self.output_layer(output_tensor)\n",
    "\n",
    "            return output, hidden\n",
    "\n",
    "\n",
    "\n"
   ]
  },
  {
   "cell_type": "code",
   "execution_count": 69,
   "id": "limited-purple",
   "metadata": {},
   "outputs": [],
   "source": [
    "def test_full_system(describer_class):\n",
    "    toy_color_seqs, toy_word_seqs, toy_vocab = create_example_dataset(\n",
    "        group_size=50, vec_dim=2)\n",
    "\n",
    "    toy_color_seqs_train, toy_color_seqs_test, toy_word_seqs_train, toy_word_seqs_test = \\\n",
    "        train_test_split(toy_color_seqs, toy_word_seqs)\n",
    "    toy_mod = describer_class(toy_vocab,max_iter=500)\n",
    "\n",
    "    _ = toy_mod.fit(toy_color_seqs_train, toy_word_seqs_train)\n",
    "\n",
    "    acc = toy_mod.listener_accuracy(toy_color_seqs_test, toy_word_seqs_test)\n",
    "\n",
    "    return acc"
   ]
  },
  {
   "cell_type": "markdown",
   "id": "close-understanding",
   "metadata": {},
   "source": [
    "# Test System - Expect Perfect Score (1.0)"
   ]
  },
  {
   "cell_type": "code",
   "execution_count": 70,
   "id": "strategic-conjunction",
   "metadata": {},
   "outputs": [
    {
     "name": "stderr",
     "output_type": "stream",
     "text": [
      "Finished epoch 3 of 500; error is 1.5357049703598022"
     ]
    },
    {
     "name": "stdout",
     "output_type": "stream",
     "text": [
      "The autoreload extension is already loaded. To reload it, use:\n",
      "  %reload_ext autoreload\n"
     ]
    },
    {
     "name": "stderr",
     "output_type": "stream",
     "text": [
      "Finished epoch 36 of 500; error is 0.44747927784919744"
     ]
    },
    {
     "ename": "KeyboardInterrupt",
     "evalue": "",
     "output_type": "error",
     "traceback": [
      "\u001b[0;31m---------------------------------------------------------------------------\u001b[0m",
      "\u001b[0;31mKeyboardInterrupt\u001b[0m                         Traceback (most recent call last)",
      "\u001b[0;32m<ipython-input-70-9e97c53df90a>\u001b[0m in \u001b[0;36m<module>\u001b[0;34m\u001b[0m\n\u001b[1;32m      3\u001b[0m \u001b[0;32mfrom\u001b[0m \u001b[0mtorch_color_describer\u001b[0m \u001b[0;32mimport\u001b[0m \u001b[0;34m(\u001b[0m\u001b[0mContextualColorDescriber\u001b[0m\u001b[0;34m,\u001b[0m \u001b[0mcreate_example_dataset\u001b[0m\u001b[0;34m)\u001b[0m\u001b[0;34m\u001b[0m\u001b[0;34m\u001b[0m\u001b[0m\n\u001b[1;32m      4\u001b[0m \u001b[0;34m\u001b[0m\u001b[0m\n\u001b[0;32m----> 5\u001b[0;31m \u001b[0mtest_full_system\u001b[0m\u001b[0;34m(\u001b[0m\u001b[0mColorizedInputDescriberOriginal\u001b[0m\u001b[0;34m)\u001b[0m\u001b[0;34m\u001b[0m\u001b[0;34m\u001b[0m\u001b[0m\n\u001b[0m",
      "\u001b[0;32m<ipython-input-69-4f29d45fa707>\u001b[0m in \u001b[0;36mtest_full_system\u001b[0;34m(describer_class)\u001b[0m\n\u001b[1;32m      7\u001b[0m     \u001b[0mtoy_mod\u001b[0m \u001b[0;34m=\u001b[0m \u001b[0mdescriber_class\u001b[0m\u001b[0;34m(\u001b[0m\u001b[0mtoy_vocab\u001b[0m\u001b[0;34m,\u001b[0m\u001b[0mmax_iter\u001b[0m\u001b[0;34m=\u001b[0m\u001b[0;36m500\u001b[0m\u001b[0;34m)\u001b[0m\u001b[0;34m\u001b[0m\u001b[0;34m\u001b[0m\u001b[0m\n\u001b[1;32m      8\u001b[0m \u001b[0;34m\u001b[0m\u001b[0m\n\u001b[0;32m----> 9\u001b[0;31m     \u001b[0m_\u001b[0m \u001b[0;34m=\u001b[0m \u001b[0mtoy_mod\u001b[0m\u001b[0;34m.\u001b[0m\u001b[0mfit\u001b[0m\u001b[0;34m(\u001b[0m\u001b[0mtoy_color_seqs_train\u001b[0m\u001b[0;34m,\u001b[0m \u001b[0mtoy_word_seqs_train\u001b[0m\u001b[0;34m)\u001b[0m\u001b[0;34m\u001b[0m\u001b[0;34m\u001b[0m\u001b[0m\n\u001b[0m\u001b[1;32m     10\u001b[0m \u001b[0;34m\u001b[0m\u001b[0m\n\u001b[1;32m     11\u001b[0m     \u001b[0macc\u001b[0m \u001b[0;34m=\u001b[0m \u001b[0mtoy_mod\u001b[0m\u001b[0;34m.\u001b[0m\u001b[0mlistener_accuracy\u001b[0m\u001b[0;34m(\u001b[0m\u001b[0mtoy_color_seqs_test\u001b[0m\u001b[0;34m,\u001b[0m \u001b[0mtoy_word_seqs_test\u001b[0m\u001b[0;34m)\u001b[0m\u001b[0;34m\u001b[0m\u001b[0;34m\u001b[0m\u001b[0m\n",
      "\u001b[0;32m~/Desktop/Stanford Grad Courses/cs224u/xcs224u_final_paper/code/torch_model_base.py\u001b[0m in \u001b[0;36mfit\u001b[0;34m(self, *args)\u001b[0m\n\u001b[1;32m    366\u001b[0m                     \u001b[0merr\u001b[0m \u001b[0;34m/=\u001b[0m \u001b[0mself\u001b[0m\u001b[0;34m.\u001b[0m\u001b[0mgradient_accumulation_steps\u001b[0m\u001b[0;34m\u001b[0m\u001b[0;34m\u001b[0m\u001b[0m\n\u001b[1;32m    367\u001b[0m \u001b[0;34m\u001b[0m\u001b[0m\n\u001b[0;32m--> 368\u001b[0;31m                 \u001b[0merr\u001b[0m\u001b[0;34m.\u001b[0m\u001b[0mbackward\u001b[0m\u001b[0;34m(\u001b[0m\u001b[0;34m)\u001b[0m\u001b[0;34m\u001b[0m\u001b[0;34m\u001b[0m\u001b[0m\n\u001b[0m\u001b[1;32m    369\u001b[0m \u001b[0;34m\u001b[0m\u001b[0m\n\u001b[1;32m    370\u001b[0m                 \u001b[0mepoch_error\u001b[0m \u001b[0;34m+=\u001b[0m \u001b[0merr\u001b[0m\u001b[0;34m.\u001b[0m\u001b[0mitem\u001b[0m\u001b[0;34m(\u001b[0m\u001b[0;34m)\u001b[0m\u001b[0;34m\u001b[0m\u001b[0;34m\u001b[0m\u001b[0m\n",
      "\u001b[0;32m~/anaconda3/envs/nlu/lib/python3.7/site-packages/torch/tensor.py\u001b[0m in \u001b[0;36mbackward\u001b[0;34m(self, gradient, retain_graph, create_graph)\u001b[0m\n\u001b[1;32m    219\u001b[0m                 \u001b[0mretain_graph\u001b[0m\u001b[0;34m=\u001b[0m\u001b[0mretain_graph\u001b[0m\u001b[0;34m,\u001b[0m\u001b[0;34m\u001b[0m\u001b[0;34m\u001b[0m\u001b[0m\n\u001b[1;32m    220\u001b[0m                 create_graph=create_graph)\n\u001b[0;32m--> 221\u001b[0;31m         \u001b[0mtorch\u001b[0m\u001b[0;34m.\u001b[0m\u001b[0mautograd\u001b[0m\u001b[0;34m.\u001b[0m\u001b[0mbackward\u001b[0m\u001b[0;34m(\u001b[0m\u001b[0mself\u001b[0m\u001b[0;34m,\u001b[0m \u001b[0mgradient\u001b[0m\u001b[0;34m,\u001b[0m \u001b[0mretain_graph\u001b[0m\u001b[0;34m,\u001b[0m \u001b[0mcreate_graph\u001b[0m\u001b[0;34m)\u001b[0m\u001b[0;34m\u001b[0m\u001b[0;34m\u001b[0m\u001b[0m\n\u001b[0m\u001b[1;32m    222\u001b[0m \u001b[0;34m\u001b[0m\u001b[0m\n\u001b[1;32m    223\u001b[0m     \u001b[0;32mdef\u001b[0m \u001b[0mregister_hook\u001b[0m\u001b[0;34m(\u001b[0m\u001b[0mself\u001b[0m\u001b[0;34m,\u001b[0m \u001b[0mhook\u001b[0m\u001b[0;34m)\u001b[0m\u001b[0;34m:\u001b[0m\u001b[0;34m\u001b[0m\u001b[0;34m\u001b[0m\u001b[0m\n",
      "\u001b[0;32m~/anaconda3/envs/nlu/lib/python3.7/site-packages/torch/autograd/__init__.py\u001b[0m in \u001b[0;36mbackward\u001b[0;34m(tensors, grad_tensors, retain_graph, create_graph, grad_variables)\u001b[0m\n\u001b[1;32m    130\u001b[0m     Variable._execution_engine.run_backward(\n\u001b[1;32m    131\u001b[0m         \u001b[0mtensors\u001b[0m\u001b[0;34m,\u001b[0m \u001b[0mgrad_tensors_\u001b[0m\u001b[0;34m,\u001b[0m \u001b[0mretain_graph\u001b[0m\u001b[0;34m,\u001b[0m \u001b[0mcreate_graph\u001b[0m\u001b[0;34m,\u001b[0m\u001b[0;34m\u001b[0m\u001b[0;34m\u001b[0m\u001b[0m\n\u001b[0;32m--> 132\u001b[0;31m         allow_unreachable=True)  # allow_unreachable flag\n\u001b[0m\u001b[1;32m    133\u001b[0m \u001b[0;34m\u001b[0m\u001b[0m\n\u001b[1;32m    134\u001b[0m \u001b[0;34m\u001b[0m\u001b[0m\n",
      "\u001b[0;31mKeyboardInterrupt\u001b[0m: "
     ]
    }
   ],
   "source": [
    "%load_ext autoreload\n",
    "%autoreload 2\n",
    "from torch_color_describer import (ContextualColorDescriber, create_example_dataset)\n",
    "\n",
    "test_full_system(ColorizedInputDescriberOriginal)"
   ]
  },
  {
   "cell_type": "code",
   "execution_count": 71,
   "id": "swiss-killer",
   "metadata": {},
   "outputs": [],
   "source": [
    "def my_original_system(trained_model, color_seqs_test, texts_test):\n",
    "    \"\"\"\n",
    "    Feel free to modify this code to accommodate the needs of\n",
    "    your system. Just keep in mind that it will get raw corpus\n",
    "    examples as inputs for the bake-off.\n",
    "\n",
    "    \"\"\"\n",
    "    # `word_seqs_test` is a list of strings, so tokenize each of\n",
    "    # its elements:\n",
    "    tok_seqs = [tokenize_example(s) for s in texts_test]\n",
    "\n",
    "    col_seqs = [represent_color_context(colors)\n",
    "                for colors in color_seqs_test]\n",
    "\n",
    "\n",
    "    # Optionally include other preprocessing steps here. Note:\n",
    "    # DO NOT RETRAIN YOUR MODEL! It's a tempting step, but it's\n",
    "    # a mistake and will get you disqualified!\n",
    "\n",
    "\n",
    "    # The following core score calculations are required:\n",
    "    return trained_model.evaluate(col_seqs, tok_seqs)"
   ]
  },
  {
   "cell_type": "markdown",
   "id": "understood-peace",
   "metadata": {},
   "source": [
    "# Run over entire dataset"
   ]
  },
  {
   "cell_type": "code",
   "execution_count": 72,
   "id": "discrete-bermuda",
   "metadata": {},
   "outputs": [
    {
     "ename": "KeyboardInterrupt",
     "evalue": "",
     "output_type": "error",
     "traceback": [
      "\u001b[0;31m---------------------------------------------------------------------------\u001b[0m",
      "\u001b[0;31mKeyboardInterrupt\u001b[0m                         Traceback (most recent call last)",
      "\u001b[0;32m<ipython-input-72-76f75d052d69>\u001b[0m in \u001b[0;36m<module>\u001b[0;34m\u001b[0m\n\u001b[1;32m      2\u001b[0m \u001b[0;34m\u001b[0m\u001b[0m\n\u001b[1;32m      3\u001b[0m \u001b[0mdev_mod\u001b[0m \u001b[0;34m=\u001b[0m \u001b[0mColorizedInputDescriberOriginal\u001b[0m\u001b[0;34m(\u001b[0m\u001b[0mvocab\u001b[0m \u001b[0;34m=\u001b[0m \u001b[0mdev_vocab\u001b[0m\u001b[0;34m,\u001b[0m   \u001b[0mmax_iter\u001b[0m\u001b[0;34m=\u001b[0m\u001b[0;36m1\u001b[0m\u001b[0;34m)\u001b[0m\u001b[0;34m\u001b[0m\u001b[0;34m\u001b[0m\u001b[0m\n\u001b[0;32m----> 4\u001b[0;31m \u001b[0mdev_mod\u001b[0m\u001b[0;34m.\u001b[0m\u001b[0mfit\u001b[0m\u001b[0;34m(\u001b[0m\u001b[0mdev_cols_train\u001b[0m\u001b[0;34m,\u001b[0m \u001b[0mdev_seqs_train\u001b[0m\u001b[0;34m)\u001b[0m\u001b[0;34m\u001b[0m\u001b[0;34m\u001b[0m\u001b[0m\n\u001b[0m\u001b[1;32m      5\u001b[0m \u001b[0mmy_original_system\u001b[0m\u001b[0;34m(\u001b[0m\u001b[0mdev_mod\u001b[0m\u001b[0;34m,\u001b[0m \u001b[0mdev_rawcols_test\u001b[0m\u001b[0;34m,\u001b[0m \u001b[0mdev_texts_test\u001b[0m\u001b[0;34m)\u001b[0m\u001b[0;34m\u001b[0m\u001b[0;34m\u001b[0m\u001b[0m\n",
      "\u001b[0;32m~/Desktop/Stanford Grad Courses/cs224u/xcs224u_final_paper/code/torch_model_base.py\u001b[0m in \u001b[0;36mfit\u001b[0;34m(self, *args)\u001b[0m\n\u001b[1;32m    366\u001b[0m                     \u001b[0merr\u001b[0m \u001b[0;34m/=\u001b[0m \u001b[0mself\u001b[0m\u001b[0;34m.\u001b[0m\u001b[0mgradient_accumulation_steps\u001b[0m\u001b[0;34m\u001b[0m\u001b[0;34m\u001b[0m\u001b[0m\n\u001b[1;32m    367\u001b[0m \u001b[0;34m\u001b[0m\u001b[0m\n\u001b[0;32m--> 368\u001b[0;31m                 \u001b[0merr\u001b[0m\u001b[0;34m.\u001b[0m\u001b[0mbackward\u001b[0m\u001b[0;34m(\u001b[0m\u001b[0;34m)\u001b[0m\u001b[0;34m\u001b[0m\u001b[0;34m\u001b[0m\u001b[0m\n\u001b[0m\u001b[1;32m    369\u001b[0m \u001b[0;34m\u001b[0m\u001b[0m\n\u001b[1;32m    370\u001b[0m                 \u001b[0mepoch_error\u001b[0m \u001b[0;34m+=\u001b[0m \u001b[0merr\u001b[0m\u001b[0;34m.\u001b[0m\u001b[0mitem\u001b[0m\u001b[0;34m(\u001b[0m\u001b[0;34m)\u001b[0m\u001b[0;34m\u001b[0m\u001b[0;34m\u001b[0m\u001b[0m\n",
      "\u001b[0;32m~/anaconda3/envs/nlu/lib/python3.7/site-packages/torch/tensor.py\u001b[0m in \u001b[0;36mbackward\u001b[0;34m(self, gradient, retain_graph, create_graph)\u001b[0m\n\u001b[1;32m    219\u001b[0m                 \u001b[0mretain_graph\u001b[0m\u001b[0;34m=\u001b[0m\u001b[0mretain_graph\u001b[0m\u001b[0;34m,\u001b[0m\u001b[0;34m\u001b[0m\u001b[0;34m\u001b[0m\u001b[0m\n\u001b[1;32m    220\u001b[0m                 create_graph=create_graph)\n\u001b[0;32m--> 221\u001b[0;31m         \u001b[0mtorch\u001b[0m\u001b[0;34m.\u001b[0m\u001b[0mautograd\u001b[0m\u001b[0;34m.\u001b[0m\u001b[0mbackward\u001b[0m\u001b[0;34m(\u001b[0m\u001b[0mself\u001b[0m\u001b[0;34m,\u001b[0m \u001b[0mgradient\u001b[0m\u001b[0;34m,\u001b[0m \u001b[0mretain_graph\u001b[0m\u001b[0;34m,\u001b[0m \u001b[0mcreate_graph\u001b[0m\u001b[0;34m)\u001b[0m\u001b[0;34m\u001b[0m\u001b[0;34m\u001b[0m\u001b[0m\n\u001b[0m\u001b[1;32m    222\u001b[0m \u001b[0;34m\u001b[0m\u001b[0m\n\u001b[1;32m    223\u001b[0m     \u001b[0;32mdef\u001b[0m \u001b[0mregister_hook\u001b[0m\u001b[0;34m(\u001b[0m\u001b[0mself\u001b[0m\u001b[0;34m,\u001b[0m \u001b[0mhook\u001b[0m\u001b[0;34m)\u001b[0m\u001b[0;34m:\u001b[0m\u001b[0;34m\u001b[0m\u001b[0;34m\u001b[0m\u001b[0m\n",
      "\u001b[0;32m~/anaconda3/envs/nlu/lib/python3.7/site-packages/torch/autograd/__init__.py\u001b[0m in \u001b[0;36mbackward\u001b[0;34m(tensors, grad_tensors, retain_graph, create_graph, grad_variables)\u001b[0m\n\u001b[1;32m    130\u001b[0m     Variable._execution_engine.run_backward(\n\u001b[1;32m    131\u001b[0m         \u001b[0mtensors\u001b[0m\u001b[0;34m,\u001b[0m \u001b[0mgrad_tensors_\u001b[0m\u001b[0;34m,\u001b[0m \u001b[0mretain_graph\u001b[0m\u001b[0;34m,\u001b[0m \u001b[0mcreate_graph\u001b[0m\u001b[0;34m,\u001b[0m\u001b[0;34m\u001b[0m\u001b[0;34m\u001b[0m\u001b[0m\n\u001b[0;32m--> 132\u001b[0;31m         allow_unreachable=True)  # allow_unreachable flag\n\u001b[0m\u001b[1;32m    133\u001b[0m \u001b[0;34m\u001b[0m\u001b[0m\n\u001b[1;32m    134\u001b[0m \u001b[0;34m\u001b[0m\u001b[0m\n",
      "\u001b[0;31mKeyboardInterrupt\u001b[0m: "
     ]
    }
   ],
   "source": [
    "from torch_color_describer import (ContextualColorDescriber, create_example_dataset)\n",
    "\n",
    "dev_mod = ColorizedInputDescriberOriginal(vocab = dev_vocab,   max_iter=1)\n",
    "dev_mod.fit(dev_cols_train, dev_seqs_train)\n",
    "my_original_system(dev_mod, dev_rawcols_test, dev_texts_test)"
   ]
  },
  {
   "cell_type": "code",
   "execution_count": 58,
   "id": "informal-monday",
   "metadata": {},
   "outputs": [
    {
     "data": {
      "text/plain": [
       "{'listener_accuracy': 0.0, 'corpus_bleu': 0.05000000000000001}"
      ]
     },
     "execution_count": 58,
     "metadata": {},
     "output_type": "execute_result"
    }
   ],
   "source": []
  },
  {
   "cell_type": "code",
   "execution_count": null,
   "id": "experienced-discovery",
   "metadata": {},
   "outputs": [],
   "source": []
  }
 ],
 "metadata": {
  "kernelspec": {
   "display_name": "Python 3",
   "language": "python",
   "name": "python3"
  },
  "language_info": {
   "codemirror_mode": {
    "name": "ipython",
    "version": 3
   },
   "file_extension": ".py",
   "mimetype": "text/x-python",
   "name": "python",
   "nbconvert_exporter": "python",
   "pygments_lexer": "ipython3",
   "version": "3.7.9"
  }
 },
 "nbformat": 4,
 "nbformat_minor": 5
}
