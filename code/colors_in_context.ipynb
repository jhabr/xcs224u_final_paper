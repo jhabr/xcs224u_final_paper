{
 "cells": [
  {
   "cell_type": "code",
   "execution_count": 1,
   "metadata": {},
   "outputs": [],
   "source": [
    "__authors__ = \"Anton Gochev, Jaro Habr, Yan Jiang, Samuel Kahn\"\n",
    "__version__ = \"XCS224u, Stanford, Spring 2021\""
   ]
  },
  {
   "cell_type": "markdown",
   "metadata": {},
   "source": [
    "## Contents\n",
    "\n",
    "1. [Setup](#Setup)\n",
    "1. [Dataset](#Dataset)\n",
    "1. [Baseline-System](#Baseline-System)\n",
    "1. [Transformers](#Transformers)\n",
    "1. [Few-Short-Learning](#Few-Shot-Learning)"
   ]
  },
  {
   "cell_type": "markdown",
   "metadata": {},
   "source": [
    "## Setup"
   ]
  },
  {
   "cell_type": "code",
   "execution_count": 126,
   "metadata": {},
   "outputs": [],
   "source": [
    "from colors import ColorsCorpusReader\n",
    "import os\n",
    "import pandas as pd\n",
    "from sklearn.model_selection import train_test_split\n",
    "import torch\n",
    "from torch_color_describer import ContextualColorDescriber, create_example_dataset\n",
    "import utils\n",
    "from utils import START_SYMBOL, END_SYMBOL, UNK_SYMBOL\n",
    "import matplotlib.pyplot as plt\n",
    "import numpy as np\n",
    "import re, string"
   ]
  },
  {
   "cell_type": "code",
   "execution_count": 14,
   "metadata": {},
   "outputs": [],
   "source": [
    "# interactive console - disabled\n",
    "%%script false --no-raise-error\n",
    "\n",
    "%qtconsole"
   ]
  },
  {
   "cell_type": "markdown",
   "metadata": {},
   "source": [
    "## Dataset"
   ]
  },
  {
   "cell_type": "code",
   "execution_count": 4,
   "metadata": {},
   "outputs": [],
   "source": [
    "COLORS_SRC_FILENAME = os.path.join(\n",
    "    \"data\", \"colors\", \"filteredCorpus.csv\"\n",
    ")"
   ]
  },
  {
   "cell_type": "code",
   "execution_count": 6,
   "metadata": {},
   "outputs": [],
   "source": [
    "corpus = ColorsCorpusReader(\n",
    "    COLORS_SRC_FILENAME,\n",
    "    word_count=None,\n",
    "    normalize_colors=True\n",
    ")"
   ]
  },
  {
   "cell_type": "code",
   "execution_count": 45,
   "metadata": {},
   "outputs": [],
   "source": [
    "examples = list(corpus.read())"
   ]
  },
  {
   "cell_type": "code",
   "execution_count": 46,
   "metadata": {},
   "outputs": [
    {
     "data": {
      "text/plain": [
       "46994"
      ]
     },
     "execution_count": 46,
     "metadata": {},
     "output_type": "execute_result"
    }
   ],
   "source": [
    "len(examples)"
   ]
  },
  {
   "cell_type": "code",
   "execution_count": 113,
   "metadata": {},
   "outputs": [],
   "source": [
    "close_examles = [example for example in examples if example.condition == \"close\"]\n",
    "split_examles = [example for example in examples if example.condition == \"split\"]\n",
    "far_examles = [example for example in examples if example.condition == \"far\"]"
   ]
  },
  {
   "cell_type": "code",
   "execution_count": 114,
   "metadata": {},
   "outputs": [
    {
     "name": "stdout",
     "output_type": "stream",
     "text": [
      " close: 15519\n",
      " split: 15693\n",
      " close: 15519\n"
     ]
    }
   ],
   "source": [
    "print(f\" close: {len(close_examles)}\")\n",
    "print(f\" split: {len(split_examles)}\")\n",
    "print(f\" close: {len(close_examles)}\")"
   ]
  },
  {
   "cell_type": "code",
   "execution_count": 150,
   "metadata": {},
   "outputs": [
    {
     "data": {
      "text/plain": [
       "<BarContainer object of 3 artists>"
      ]
     },
     "execution_count": 150,
     "metadata": {},
     "output_type": "execute_result"
    },
    {
     "data": {
      "image/png": "[encoded data removed]",
      "text/plain": [
       "<Figure size 432x288 with 1 Axes>"
      ]
     },
     "metadata": {
      "needs_background": "light"
     },
     "output_type": "display_data"
    }
   ],
   "source": [
    "plt.bar(\n",
    "    np.arange(3),\n",
    "    height=[len(close_examles), len(split_examles), len(far_examles)],\n",
    "    tick_label = ['close','split','far']\n",
    ")"
   ]
  },
  {
   "cell_type": "markdown",
   "metadata": {},
   "source": [
    "### Number of words used for description"
   ]
  },
  {
   "cell_type": "code",
   "execution_count": 130,
   "metadata": {},
   "outputs": [],
   "source": [
    "def tokenize_example(content):\n",
    "    content = content.lower()\n",
    "    content = re.sub('[%s]' % re.escape(string.punctuation), '', content)\n",
    "    \n",
    "    endings = ['ish', 'er', 'est']\n",
    "    tokens = []\n",
    "    \n",
    "    for token in content.split():\n",
    "        for ending in endings:\n",
    "            if token.endswith(ending):\n",
    "                token = re.sub(ending, '', token)\n",
    "        tokens.append(token)\n",
    "            \n",
    "    return [START_SYMBOL] + tokens + [END_SYMBOL]"
   ]
  },
  {
   "cell_type": "code",
   "execution_count": 146,
   "metadata": {},
   "outputs": [],
   "source": [
    "description_words = dict()\n",
    "description_words_sorted = dict()\n",
    "\n",
    "for example in examples:\n",
    "    words = tokenize_example(example.contents) # use content tokenizer\n",
    "    description_length = len(words) - 2 # don't count start and end symbols\n",
    "    \n",
    "    if description_length in description_words.keys():\n",
    "        description_words[description_length] += 1\n",
    "    else:\n",
    "        description_words[description_length] = 1\n",
    "        \n",
    "for key in sorted(description_words):\n",
    "    description_words_sorted[key] = description_words[key]\n",
    "        \n",
    "assert np.sum(list(description_words_sorted.values())) == len(examples)"
   ]
  },
  {
   "cell_type": "code",
   "execution_count": 147,
   "metadata": {},
   "outputs": [
    {
     "data": {
      "text/plain": [
       "{1: 19160,\n",
       " 2: 12195,\n",
       " 3: 4055,\n",
       " 4: 2872,\n",
       " 5: 2175,\n",
       " 6: 1697,\n",
       " 7: 1218,\n",
       " 8: 882,\n",
       " 9: 681,\n",
       " 10: 495,\n",
       " 11: 404,\n",
       " 12: 307,\n",
       " 13: 241,\n",
       " 14: 214,\n",
       " 15: 86,\n",
       " 16: 52,\n",
       " 17: 47,\n",
       " 18: 35,\n",
       " 19: 31,\n",
       " 20: 36,\n",
       " 21: 27,\n",
       " 22: 17,\n",
       " 23: 13,\n",
       " 24: 5,\n",
       " 25: 12,\n",
       " 26: 3,\n",
       " 27: 5,\n",
       " 28: 5,\n",
       " 29: 2,\n",
       " 30: 1,\n",
       " 31: 1,\n",
       " 32: 4,\n",
       " 33: 5,\n",
       " 34: 1,\n",
       " 35: 3,\n",
       " 36: 2,\n",
       " 37: 1,\n",
       " 39: 1,\n",
       " 41: 1,\n",
       " 44: 1,\n",
       " 53: 1}"
      ]
     },
     "execution_count": 147,
     "metadata": {},
     "output_type": "execute_result"
    }
   ],
   "source": [
    "description_words_sorted"
   ]
  },
  {
   "cell_type": "code",
   "execution_count": 168,
   "metadata": {},
   "outputs": [
    {
     "data": {
      "image/png": "[encoded data removed]",
      "text/plain": [
       "<Figure size 1440x345.6 with 1 Axes>"
      ]
     },
     "metadata": {
      "needs_background": "light"
     },
     "output_type": "display_data"
    }
   ],
   "source": [
    "plt.figure(figsize=(20, 4.8))\n",
    "plt.bar(\n",
    "    np.arange(len(list(description_words_sorted.keys()))),\n",
    "    height=list(description_words_sorted.values()),\n",
    "    tick_label=list(description_words_sorted.keys())\n",
    ")\n",
    "plt.xticks(rotation=45)\n",
    "plt.show()"
   ]
  },
  {
   "cell_type": "markdown",
   "metadata": {},
   "source": [
    "## Baseline-System"
   ]
  },
  {
   "cell_type": "code",
   "execution_count": null,
   "metadata": {},
   "outputs": [],
   "source": [
    "# baseline system based on assignment 4 (LSTM, GRU)"
   ]
  },
  {
   "cell_type": "markdown",
   "metadata": {},
   "source": [
    "## Transformers"
   ]
  },
  {
   "cell_type": "code",
   "execution_count": null,
   "metadata": {},
   "outputs": [],
   "source": [
    "# transformers experiments"
   ]
  },
  {
   "cell_type": "markdown",
   "metadata": {},
   "source": [
    "## Few-Shot-Learning"
   ]
  },
  {
   "cell_type": "code",
   "execution_count": null,
   "metadata": {},
   "outputs": [],
   "source": [
    "# some more experiment with GPT-3 maybe to compare with few-shot-learning"
   ]
  }
 ],
 "metadata": {
  "kernelspec": {
   "display_name": "nlu",
   "language": "python",
   "name": "nlu"
  },
  "language_info": {
   "codemirror_mode": {
    "name": "ipython",
    "version": 3
   },
   "file_extension": ".py",
   "mimetype": "text/x-python",
   "name": "python",
   "nbconvert_exporter": "python",
   "pygments_lexer": "ipython3",
   "version": "3.7.9"
  }
 },
 "nbformat": 4,
 "nbformat_minor": 4
}
