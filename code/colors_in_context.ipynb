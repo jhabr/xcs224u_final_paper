{
 "cells": [
  {
   "cell_type": "code",
   "execution_count": null,
   "metadata": {},
   "outputs": [],
   "source": [
    "__authors__ = \"Anton Gochev, Jaro Habr, Yan Jiang, Samuel Kahn\"\n",
    "__version__ = \"XCS224u, Stanford, Spring 2021\""
   ]
  },
  {
   "cell_type": "markdown",
   "metadata": {},
   "source": [
    "## Contents\n",
    "\n",
    "1. [Setup](#Setup)\n",
    "1. [Dataset](#Dataset)\n",
    "    1. [Filtered Corpus](#Filtered-Corpus)\n",
    "    1. [Bake-Off Corpus](#Bake-Off-Corpus)\n",
    "1. [Baseline-System](#Baseline-System)\n",
    "1. [Experiments](#Experiments)\n",
    "  1. [Transformers](#Transformers)\n",
    "  1. [GPT-3: Few-Short-Learning](#GPT-3:-Few-Shot-Learning)"
   ]
  },
  {
   "cell_type": "markdown",
   "metadata": {},
   "source": [
    "## Setup"
   ]
  },
  {
   "cell_type": "code",
   "execution_count": 18,
   "metadata": {},
   "outputs": [],
   "source": [
    "from utils.colors import ColorsCorpusReader\n",
    "import os\n",
    "import pandas as pd\n",
    "from sklearn.model_selection import train_test_split\n",
    "import torch\n",
    "from utils.torch_color_describer import (\n",
    "    ContextualColorDescriber, create_example_dataset\n",
    ")\n",
    "import utils.utils as utils\n",
    "from utils.utils import UNK_SYMBOL\n",
    "import matplotlib.pyplot as plt\n",
    "import matplotlib.patches as mpatch\n",
    "import numpy as np\n",
    "from baseline.model import (\n",
    "    BaselineTokenizer, BaselineColorEncoder,\n",
    "    BaselineEmbedding, BaselineDescriber, GloVeEmbedding\n",
    ")"
   ]
  },
  {
   "cell_type": "markdown",
   "metadata": {},
   "source": [
    "## Dataset"
   ]
  },
  {
   "cell_type": "markdown",
   "metadata": {},
   "source": [
    "This exploration of the dataset counts the examples for different classes and plots the words distribition in order to see any data imbalance issues."
   ]
  },
  {
   "cell_type": "markdown",
   "metadata": {},
   "source": [
    "### Filtered Corpus"
   ]
  },
  {
   "cell_type": "markdown",
   "metadata": {},
   "source": [
    "The filtered corpus is the full dataset used in assignment 4. The following code looks at the composition of the dataset, the number of example in each condition as well as the word count used in the color descriptions."
   ]
  },
  {
   "cell_type": "code",
   "execution_count": 19,
   "metadata": {},
   "outputs": [],
   "source": [
    "COLORS_SRC_FILENAME = os.path.join(\n",
    "    \"data\", \"colors\", \"filteredCorpus.csv\"\n",
    ")"
   ]
  },
  {
   "cell_type": "code",
   "execution_count": 20,
   "metadata": {},
   "outputs": [],
   "source": [
    "corpus = ColorsCorpusReader(\n",
    "    COLORS_SRC_FILENAME,\n",
    "    word_count=None,\n",
    "    normalize_colors=True\n",
    ")"
   ]
  },
  {
   "cell_type": "code",
   "execution_count": 21,
   "metadata": {},
   "outputs": [],
   "source": [
    "examples = list(corpus.read())"
   ]
  },
  {
   "cell_type": "code",
   "execution_count": 22,
   "metadata": {},
   "outputs": [
    {
     "data": {
      "text/plain": [
       "46994"
      ]
     },
     "execution_count": 22,
     "metadata": {},
     "output_type": "execute_result"
    }
   ],
   "source": [
    "len(examples)"
   ]
  },
  {
   "cell_type": "code",
   "execution_count": 23,
   "metadata": {},
   "outputs": [],
   "source": [
    "close_examples = [example for example in examples if example.condition == \"close\"]\n",
    "split_examples = [example for example in examples if example.condition == \"split\"]\n",
    "far_examples = [example for example in examples if example.condition == \"far\"]"
   ]
  },
  {
   "cell_type": "code",
   "execution_count": 24,
   "metadata": {},
   "outputs": [
    {
     "name": "stdout",
     "output_type": "stream",
     "text": [
      "close: 15519\n",
      "split: 15693\n",
      "far: 15782\n"
     ]
    }
   ],
   "source": [
    "print(f\"close: {len(close_examples)}\")\n",
    "print(f\"split: {len(split_examples)}\")\n",
    "print(f\"far: {len(far_examples)}\")"
   ]
  },
  {
   "cell_type": "code",
   "execution_count": 25,
   "metadata": {},
   "outputs": [
    {
     "data": {
      "text/plain": [
       "<BarContainer object of 3 artists>"
      ]
     },
     "execution_count": 25,
     "metadata": {},
     "output_type": "execute_result"
    },
    {
     "data": {
      "image/png": "[encoded data removed]",
      "text/plain": [
       "<Figure size 432x288 with 1 Axes>"
      ]
     },
     "metadata": {
      "needs_background": "light"
     },
     "output_type": "display_data"
    }
   ],
   "source": [
    "plt.bar(\n",
    "    np.arange(3),\n",
    "    height=[len(close_examples), len(split_examples), len(far_examples)],\n",
    "    tick_label = ['close','split','far']\n",
    ")"
   ]
  },
  {
   "cell_type": "markdown",
   "metadata": {},
   "source": [
    "### Number of words used for description"
   ]
  },
  {
   "cell_type": "code",
   "execution_count": 26,
   "metadata": {},
   "outputs": [],
   "source": [
    "def count_words(examples):\n",
    "    description_words = dict()\n",
    "    description_words_sorted = dict()\n",
    "    tokenizer = BaselineTokenizer()\n",
    "\n",
    "    for example in examples:\n",
    "        words = tokenizer.encode(example.contents) # use content tokenizer\n",
    "        description_length = len(words) - 2 # don't count start and end symbols\n",
    "\n",
    "        if description_length in description_words.keys():\n",
    "            description_words[description_length] += 1\n",
    "        else:\n",
    "            description_words[description_length] = 1\n",
    "\n",
    "    for key in sorted(description_words):\n",
    "        description_words_sorted[key] = description_words[key]\n",
    "\n",
    "    assert np.sum(list(description_words_sorted.values())) == len(examples)\n",
    "    \n",
    "    return description_words_sorted"
   ]
  },
  {
   "cell_type": "code",
   "execution_count": 27,
   "metadata": {},
   "outputs": [],
   "source": [
    "description_words = count_words(examples)"
   ]
  },
  {
   "cell_type": "code",
   "execution_count": 28,
   "metadata": {},
   "outputs": [
    {
     "name": "stdout",
     "output_type": "stream",
     "text": [
      "{1: 19160, 2: 12195, 3: 4055, 4: 2872, 5: 2175, 6: 1697, 7: 1218, 8: 882, 9: 681, 10: 495, 11: 404, 12: 307, 13: 241, 14: 214, 15: 86, 16: 52, 17: 47, 18: 35, 19: 31, 20: 36, 21: 27, 22: 17, 23: 13, 24: 5, 25: 12, 26: 3, 27: 5, 28: 5, 29: 2, 30: 1, 31: 1, 32: 4, 33: 5, 34: 1, 35: 3, 36: 2, 37: 1, 39: 1, 41: 1, 44: 1, 53: 1}\n"
     ]
    }
   ],
   "source": [
    "print(description_words)"
   ]
  },
  {
   "cell_type": "code",
   "execution_count": 29,
   "metadata": {},
   "outputs": [
    {
     "data": {
      "image/png": "[encoded data removed]",
      "text/plain": [
       "<Figure size 1296x345.6 with 1 Axes>"
      ]
     },
     "metadata": {
      "needs_background": "light"
     },
     "output_type": "display_data"
    }
   ],
   "source": [
    "plt.figure(figsize=(18, 4.8))\n",
    "plt.bar(\n",
    "    np.arange(len(list(description_words.keys()))),\n",
    "    height=list(description_words.values()),\n",
    "    tick_label=list(description_words.keys())\n",
    ")\n",
    "plt.xticks(rotation=45)\n",
    "plt.show()"
   ]
  },
  {
   "cell_type": "markdown",
   "metadata": {},
   "source": [
    "### Bake-Off Corpus"
   ]
  },
  {
   "cell_type": "markdown",
   "metadata": {},
   "source": [
    "The following code analyses the bake-off dataset. We will look at the number of examples for each of the conditions as well as the word count used to described the colors."
   ]
  },
  {
   "cell_type": "code",
   "execution_count": 30,
   "metadata": {},
   "outputs": [],
   "source": [
    "BAKE_OFF_COLORS_SRC_FILENAME = os.path.join(\n",
    "    \"data\", \"colors\", \"cs224u-colors-bakeoff-data.csv\"\n",
    ")"
   ]
  },
  {
   "cell_type": "code",
   "execution_count": 31,
   "metadata": {},
   "outputs": [],
   "source": [
    "bake_off_corpus = ColorsCorpusReader(\n",
    "    BAKE_OFF_COLORS_SRC_FILENAME,\n",
    "    word_count=None,\n",
    "    normalize_colors=True\n",
    ")"
   ]
  },
  {
   "cell_type": "code",
   "execution_count": 32,
   "metadata": {},
   "outputs": [],
   "source": [
    "bake_off_examples = list(bake_off_corpus.read())"
   ]
  },
  {
   "cell_type": "code",
   "execution_count": 33,
   "metadata": {},
   "outputs": [
    {
     "data": {
      "text/plain": [
       "2031"
      ]
     },
     "execution_count": 33,
     "metadata": {},
     "output_type": "execute_result"
    }
   ],
   "source": [
    "len(bake_off_examples)"
   ]
  },
  {
   "cell_type": "code",
   "execution_count": 34,
   "metadata": {},
   "outputs": [],
   "source": [
    "bake_off_close_examples = [\n",
    "    example for example in bake_off_examples if example.condition == \"close\"\n",
    "]\n",
    "bake_off_split_examples = [\n",
    "    example for example in bake_off_examples if example.condition == \"split\"\n",
    "]\n",
    "bake_off_far_examples = [\n",
    "    example for example in bake_off_examples if example.condition == \"far\"\n",
    "]"
   ]
  },
  {
   "cell_type": "code",
   "execution_count": 35,
   "metadata": {},
   "outputs": [
    {
     "name": "stdout",
     "output_type": "stream",
     "text": [
      "close: 633\n",
      "split: 652\n",
      "far: 746\n"
     ]
    }
   ],
   "source": [
    "print(f\"close: {len(bake_off_close_examples)}\")\n",
    "print(f\"split: {len(bake_off_split_examples)}\")\n",
    "print(f\"far: {len(bake_off_far_examples)}\")"
   ]
  },
  {
   "cell_type": "code",
   "execution_count": 36,
   "metadata": {},
   "outputs": [
    {
     "data": {
      "text/plain": [
       "<BarContainer object of 3 artists>"
      ]
     },
     "execution_count": 36,
     "metadata": {},
     "output_type": "execute_result"
    },
    {
     "data": {
      "image/png": "[encoded data removed]",
      "text/plain": [
       "<Figure size 432x288 with 1 Axes>"
      ]
     },
     "metadata": {
      "needs_background": "light"
     },
     "output_type": "display_data"
    }
   ],
   "source": [
    "plt.bar(\n",
    "    np.arange(3),\n",
    "    height=[\n",
    "        len(bake_off_close_examples),\n",
    "        len(bake_off_split_examples),\n",
    "        len(bake_off_far_examples)\n",
    "    ],\n",
    "    tick_label = ['close','split','far']\n",
    ")"
   ]
  },
  {
   "cell_type": "code",
   "execution_count": 37,
   "metadata": {},
   "outputs": [],
   "source": [
    "bake_off_description_words = count_words(bake_off_examples)"
   ]
  },
  {
   "cell_type": "code",
   "execution_count": 38,
   "metadata": {},
   "outputs": [
    {
     "data": {
      "text/plain": [
       "{1: 817, 2: 1109, 3: 84, 4: 11, 5: 2, 6: 2, 7: 3, 8: 1, 11: 1, 12: 1}"
      ]
     },
     "execution_count": 38,
     "metadata": {},
     "output_type": "execute_result"
    }
   ],
   "source": [
    "bake_off_description_words"
   ]
  },
  {
   "cell_type": "code",
   "execution_count": 39,
   "metadata": {},
   "outputs": [
    {
     "data": {
      "image/png": "[encoded data removed]",
      "text/plain": [
       "<Figure size 1296x345.6 with 1 Axes>"
      ]
     },
     "metadata": {
      "needs_background": "light"
     },
     "output_type": "display_data"
    }
   ],
   "source": [
    "plt.figure(figsize=(18, 4.8))\n",
    "plt.bar(\n",
    "    np.arange(len(list(bake_off_description_words.keys()))),\n",
    "    height=list(bake_off_description_words.values()),\n",
    "    tick_label=list(bake_off_description_words.keys())\n",
    ")\n",
    "plt.xticks(rotation=45)\n",
    "plt.show()"
   ]
  },
  {
   "cell_type": "markdown",
   "metadata": {},
   "source": [
    "## Baseline-System"
   ]
  },
  {
   "cell_type": "markdown",
   "metadata": {},
   "source": [
    "This baseline system is based on assignment 4."
   ]
  },
  {
   "cell_type": "code",
   "execution_count": 40,
   "metadata": {},
   "outputs": [],
   "source": [
    "tokenizer = BaselineTokenizer()\n",
    "color_encoder = BaselineColorEncoder()\n",
    "embedding = BaselineEmbedding()"
   ]
  },
  {
   "cell_type": "markdown",
   "metadata": {},
   "source": [
    "### Baseline system development - dev dataset"
   ]
  },
  {
   "cell_type": "markdown",
   "metadata": {},
   "source": [
    "The tiny dataset is used for baseline model development and fast testing."
   ]
  },
  {
   "cell_type": "code",
   "execution_count": 41,
   "metadata": {},
   "outputs": [],
   "source": [
    "def create_dev_data():\n",
    "    dev_color_seqs, dev_word_seqs, dev_vocab = create_example_dataset(\n",
    "        group_size=50,\n",
    "        vec_dim=2\n",
    "    )\n",
    "\n",
    "    dev_colors_train, dev_colors_test, dev_words_train, dev_words_test = \\\n",
    "        train_test_split(dev_color_seqs, dev_word_seqs)\n",
    "    \n",
    "    return dev_vocab, dev_colors_train, dev_words_train, dev_colors_test, dev_words_test"
   ]
  },
  {
   "cell_type": "code",
   "execution_count": 42,
   "metadata": {},
   "outputs": [],
   "source": [
    "dev_vocab, dev_colors_train, dev_tokens_train, dev_colors_test, dev_texts_test = \\\n",
    "    create_dev_data()"
   ]
  },
  {
   "cell_type": "code",
   "execution_count": 43,
   "metadata": {},
   "outputs": [],
   "source": [
    "dev_glove_embedding, dev_glove_vocab = embedding.create_glove_embedding(dev_vocab)"
   ]
  },
  {
   "cell_type": "code",
   "execution_count": 44,
   "metadata": {},
   "outputs": [],
   "source": [
    "dev_baseline_model = BaselineDescriber(\n",
    "    dev_glove_vocab,\n",
    "    embedding=dev_glove_embedding,\n",
    "    early_stopping=True\n",
    ")"
   ]
  },
  {
   "cell_type": "code",
   "execution_count": 45,
   "metadata": {},
   "outputs": [
    {
     "name": "stderr",
     "output_type": "stream",
     "text": [
      "Stopping after epoch 12. Validation score did not improve by tol=1e-05 for more than 10 epochs. Final error is 1.480361819267273"
     ]
    },
    {
     "name": "stdout",
     "output_type": "stream",
     "text": [
      "CPU times: user 607 ms, sys: 55.7 ms, total: 663 ms\n",
      "Wall time: 747 ms\n"
     ]
    }
   ],
   "source": [
    "%time _ = dev_baseline_model.fit(dev_colors_train, dev_tokens_train)"
   ]
  },
  {
   "cell_type": "code",
   "execution_count": 46,
   "metadata": {},
   "outputs": [
    {
     "data": {
      "text/plain": [
       "{'listener_accuracy': 0.4473684210526316, 'corpus_bleu': 0.05000000000000001}"
      ]
     },
     "execution_count": 46,
     "metadata": {},
     "output_type": "execute_result"
    }
   ],
   "source": [
    "dev_baseline_model.evaluate(dev_colors_test, dev_texts_test)"
   ]
  },
  {
   "cell_type": "markdown",
   "metadata": {},
   "source": [
    "### Model training - full dataset"
   ]
  },
  {
   "cell_type": "markdown",
   "metadata": {},
   "source": [
    "The full color context dataset is used for final baseline model training."
   ]
  },
  {
   "cell_type": "code",
   "execution_count": 47,
   "metadata": {},
   "outputs": [],
   "source": [
    "def create_data():    \n",
    "    rawcols, texts = zip(*[[ex.colors, ex.contents] for ex in examples])\n",
    "\n",
    "    raw_colors_train, raw_colors_test, texts_train, texts_test = \\\n",
    "        train_test_split(rawcols, texts)\n",
    "\n",
    "    tokens_train = [tokenizer.encode(text) for text in texts_train]\n",
    "    colors_train = [\n",
    "        color_encoder.encode_color_context(colors) for colors in raw_colors_train\n",
    "    ]\n",
    "\n",
    "    vocab = sorted({word for tokens in tokens_train for word in tokens})\n",
    "    vocab += [UNK_SYMBOL]\n",
    "\n",
    "    return vocab, colors_train, tokens_train, raw_colors_test, texts_test"
   ]
  },
  {
   "cell_type": "code",
   "execution_count": 48,
   "metadata": {},
   "outputs": [],
   "source": [
    "vocab, colors_train, tokens_train, raw_colors_test, texts_test = create_data()"
   ]
  },
  {
   "cell_type": "code",
   "execution_count": 49,
   "metadata": {},
   "outputs": [],
   "source": [
    "glove_embedding, glove_vocab = embedding.create_glove_embedding(vocab)"
   ]
  },
  {
   "cell_type": "code",
   "execution_count": 50,
   "metadata": {},
   "outputs": [],
   "source": [
    "baseline_model = BaselineDescriber(\n",
    "    glove_vocab,\n",
    "    embedding=glove_embedding,\n",
    "    early_stopping=True\n",
    ")"
   ]
  },
  {
   "cell_type": "code",
   "execution_count": null,
   "metadata": {},
   "outputs": [],
   "source": [
    "%time _ = baseline_model.fit(colors_train, tokens_train)"
   ]
  },
  {
   "cell_type": "code",
   "execution_count": null,
   "metadata": {},
   "outputs": [],
   "source": [
    "def evaluate(trained_model, color_seqs_test, texts_test):\n",
    "    tok_seqs = [tokenizer.encode(text) for text in texts_test]\n",
    "    col_seqs = [color_encoder.encode_color_context(colors) for colors in color_seqs_test]\n",
    "\n",
    "    return trained_model.evaluate(col_seqs, tok_seqs)"
   ]
  },
  {
   "cell_type": "code",
   "execution_count": null,
   "metadata": {},
   "outputs": [],
   "source": [
    "evaluate(baseline_model, raw_colors_test, texts_test)"
   ]
  },
  {
   "cell_type": "markdown",
   "metadata": {},
   "source": [
    "## Experiments"
   ]
  },
  {
   "cell_type": "markdown",
   "metadata": {},
   "source": [
    "### BERT - Token Embeddings\n",
    "\n",
    "Uses BERT token embedding. The tokens were created using BERT tokenizer. The embeddings were created using the nlu library."
   ]
  },
  {
   "cell_type": "code",
   "execution_count": 51,
   "metadata": {},
   "outputs": [
    {
     "name": "stdout",
     "output_type": "stream",
     "text": [
      "0: 1 \n",
      " [-6.38427794e-01 -2.01340929e-01 -3.03408146e-01 -5.64259529e-01\n",
      " -1.20634638e-01 -2.48514056e-01  1.12583593e-01 -6.26233071e-02\n",
      "  2.34618008e-01 -7.53728569e-01 -3.71900469e-01 -3.23626161e-01\n",
      "  3.15438926e-01 -1.61926657e-01  4.69628870e-02  4.44134921e-01\n",
      " -2.06054207e-02  2.00471729e-01  3.52511972e-01  7.54071057e-01\n",
      "  2.52103031e-01  2.83721000e-01 -6.28947794e-01  1.87162310e-01\n",
      "  1.59362093e-01  7.16134608e-01 -1.88292116e-01 -2.85534590e-01\n",
      " -3.00664902e-01  1.07732832e+00  6.27519548e-01 -7.54074216e-01\n",
      "  8.73289287e-01  6.17699146e-01 -1.81464091e-01  2.84518898e-01\n",
      "  3.27771246e-01 -6.50475174e-03 -3.55128795e-02 -2.71295220e-01\n",
      "  3.80701303e-01 -2.64663517e-01  3.24273482e-02 -8.36178720e-01\n",
      "  5.25373578e-01  8.18388402e-01 -2.87781894e-01 -3.42957303e-02\n",
      " -9.61877823e-01 -1.82180300e-01 -5.85041404e-01 -2.97508538e-01\n",
      " -2.47224152e-01  3.20151895e-01  4.21531737e-01 -8.78680587e-01\n",
      "  3.02537024e-01  1.86673820e-01 -5.36366463e-01 -3.38853896e-01\n",
      "  1.03464258e+00 -2.08153054e-02  3.72910887e-01  2.68510222e-01\n",
      " -2.53697008e-01  2.66594350e-01  7.01930583e-01  2.73638546e-01\n",
      " -5.93148708e-01  5.09779096e-01 -1.80743337e-01 -7.39884600e-02\n",
      "  3.91672581e-01 -4.03816879e-01  5.86865246e-01 -8.42298046e-02\n",
      "  3.34664524e-01  2.83214133e-02  3.47182572e-01 -6.00217998e-01\n",
      "  7.41633594e-01 -4.67836820e-02 -1.93946198e-01  3.66275549e-01\n",
      " -1.20999470e-01  2.36894265e-01  1.83713064e-01 -3.90451074e-01\n",
      " -6.74799085e-01  5.30950464e-02 -5.68630695e-01  1.12805650e-01\n",
      " -6.38674617e-01  2.98575193e-01  3.15392703e-01 -8.48089039e-01\n",
      " -8.95759583e-01  1.42018870e-01  1.37251809e-01 -9.18492973e-01\n",
      " -4.81584489e-01  4.90192652e-01 -3.18991750e-01  1.56174839e-01\n",
      " -4.63293135e-01  3.59295249e-01 -4.94012423e-02 -4.27439332e-01\n",
      " -5.07108569e-02 -1.51235880e-02 -1.21484160e-01  1.24414451e-01\n",
      "  2.09421918e-01  2.09135607e-01  4.68944997e-01  1.12568271e+00\n",
      " -3.80396277e-01 -3.43723774e-01 -2.34530210e-01  3.84890050e-01\n",
      " -4.27480899e-02  7.41763636e-02 -3.86176616e-01  4.10380960e-01\n",
      " -1.24614269e-01  1.60020068e-01 -1.05661146e-01 -2.82186925e-01\n",
      "  6.11124374e-02 -3.55120078e-02 -4.65154260e-01 -1.22972868e-01\n",
      " -2.42845967e-01  5.16655669e-02 -1.53532118e-01 -9.11207721e-02\n",
      " -1.03553958e-01 -3.27209711e-01  6.10104561e-01 -8.19385648e-01\n",
      "  7.73520291e-01  1.09003878e+00  4.73699063e-01 -4.59811538e-01\n",
      "  5.07532656e-02 -1.09416246e-01 -2.02564761e-01  1.41709715e-01\n",
      " -1.35201737e-01 -1.85122490e-01 -1.42048866e-01  1.20796227e+00\n",
      " -3.16726625e-01 -1.05535972e+00 -4.38256562e-01 -6.23791635e-01\n",
      " -1.34053022e-01  8.15630794e-01 -1.76108569e-01  5.91035724e-01\n",
      "  9.96869624e-01  4.01563287e-01  1.45833671e-01  1.42220485e+00\n",
      "  1.80518270e-01  4.89661872e-01  3.12489629e-01  1.34160328e+00\n",
      "  2.19715998e-01 -3.24487209e-01 -3.82164478e-01 -7.03840613e-01\n",
      "  1.42111635e+00 -1.63956612e-01 -5.16989410e-01  9.18052912e-01\n",
      "  8.44705224e-01  7.77706683e-01 -2.32180089e-01 -3.73144746e-01\n",
      " -5.27266860e-01  2.31788442e-01  1.72338560e-01 -5.26355684e-01\n",
      " -1.01770386e-01  3.77934754e-01  8.13625216e-01 -5.05311549e-01\n",
      "  7.68996179e-01  1.93030745e-01 -3.99938643e-01 -7.86018372e-01\n",
      "  7.07131803e-01 -9.42079797e-02  2.12835923e-01  1.06726259e-01\n",
      " -1.43891022e-01 -1.03531718e+00  6.50622547e-01 -4.38329697e-01\n",
      "  6.07275724e-01 -1.38997316e-01  6.43778443e-01  3.72250766e-01\n",
      " -5.83158910e-01  9.18032765e-01 -5.36570549e-01 -2.61539638e-01\n",
      "  2.50284791e-01 -2.76720017e-01 -7.73923934e-01  1.32356501e+00\n",
      "  1.16791174e-01 -1.35785207e-01  4.63768661e-01 -6.87882483e-01\n",
      "  4.64144707e-01 -4.01146919e-01 -2.94943839e-01 -3.16639543e-01\n",
      " -7.98466876e-02 -1.23214021e-01 -2.02497929e-01  2.41732016e-01\n",
      " -8.20594609e-01  2.24122047e-01 -2.19429508e-02 -6.44643486e-01\n",
      "  4.88687664e-01  3.72927636e-02 -6.11436963e-01 -3.46669227e-01\n",
      "  2.96052933e-01 -2.99454629e-01 -6.77010238e-01  6.39407218e-01\n",
      " -4.58997965e-01 -3.04005742e-01 -1.59265876e-01 -5.72241843e-04\n",
      " -6.35634720e-01 -4.84594643e-01  3.88940305e-01  9.22538280e-01\n",
      " -2.45223135e-01  7.05707312e-01  9.93871212e-01 -2.03629315e-01\n",
      "  1.10949725e-02 -4.43313718e-02 -1.67947844e-01 -9.37794387e-01\n",
      " -3.10699910e-01 -5.18497169e-01 -2.30422229e-01 -7.06573069e-01\n",
      " -4.53478009e-01 -5.68669319e-01  1.16862044e-01  6.80085421e-01\n",
      " -1.87764280e-02 -2.15593159e-01  6.04272306e-01 -1.03484340e-01\n",
      " -4.82291356e-03  2.59702384e-01 -4.16444242e-02  3.32877100e-01\n",
      "  7.12703988e-02  2.40993679e-01 -2.70946056e-01  1.14863344e-01\n",
      "  1.17998526e-01  5.25053218e-02 -1.57035217e-01  3.28371972e-01\n",
      "  7.03065336e-01  1.36445686e-01  1.43291980e-01  4.04243916e-01\n",
      "  1.00348145e-03 -4.63955134e-01 -3.92539978e-01  3.03134739e-01\n",
      "  4.07642305e-01 -3.19609046e-01 -5.13804317e-01 -9.23840702e-01\n",
      "  2.46300161e-01 -1.70387045e-01 -2.77763009e-01  4.20638502e-01\n",
      "  9.39147845e-02 -3.46746355e-01  2.77339816e-01  9.18185711e-02\n",
      " -2.99856544e-01 -3.98193181e-01 -3.06768864e-01  5.77502549e-02\n",
      " -5.94613552e-01  3.08853745e-01 -9.95480895e-01 -8.31995487e-01\n",
      "  5.06742001e-01  1.11069191e+00 -2.30296314e-01 -4.37605530e-01\n",
      " -4.38883400e+00 -3.98833692e-01 -1.05590081e+00  1.37254708e-02\n",
      "  1.85053810e-01 -1.12853564e-01 -9.29748937e-02  5.56512177e-02\n",
      " -5.13234198e-01 -2.20988274e-01  9.79731083e-01 -3.74730080e-01\n",
      "  2.77207226e-01  1.04027182e-01  9.06142533e-01 -3.63344729e-01\n",
      "  5.46018742e-02 -5.32684565e-01 -7.25751638e-01  8.04517806e-01\n",
      " -4.33072001e-01 -1.21606886e-02  1.04094589e+00 -9.32473183e-01\n",
      " -2.84606725e-01  7.41195321e-01 -9.68101025e-02  5.20045400e-01\n",
      " -1.36110210e+00 -1.69078380e-01 -2.23455995e-01 -6.91922188e-01\n",
      "  3.10027078e-02  8.08207631e-01 -1.69752032e-01  5.22163689e-01\n",
      "  4.55356121e-01 -5.29177845e-01  1.23350978e+00  8.76798183e-02\n",
      "  2.44161233e-01 -1.36775717e-01  6.44926354e-02  4.54752773e-01\n",
      "  2.88928270e-01 -4.23455566e-01  1.00866151e+00 -4.10209805e-01\n",
      " -1.10280327e-02 -5.95661961e-02 -5.23132011e-02 -3.05497885e-01\n",
      "  2.78676301e-01 -7.89460421e-01  1.36974812e-01  5.02507746e-01\n",
      "  1.57616362e-01  4.46477681e-02  4.11224104e-02 -2.66287059e-01\n",
      "  4.04957175e-01 -4.06635195e-01 -7.90032983e-01  8.52638721e-01\n",
      " -1.63323736e+00  3.95199656e-02  1.56312406e-01 -4.46829200e-01\n",
      "  2.15160310e-01 -1.24708116e-02 -1.29237369e-01  3.48278403e-01\n",
      "  5.65855861e-01 -1.09963417e+00 -8.70724618e-01  4.70537663e-01\n",
      " -6.15727067e-01 -1.27521038e-01  2.62055229e-02 -4.38279510e-01\n",
      " -1.41171187e-01 -5.71629331e-02  1.09290391e-01  6.39688969e-01\n",
      "  4.06037837e-01  1.04011703e+00  3.84901196e-01 -2.49398440e-01\n",
      " -3.05071533e-01 -2.04034448e-01  1.67901181e-02  4.56639141e-01\n",
      "  8.59454215e-01  2.50694007e-01  7.12290883e-01 -6.78236306e-01\n",
      "  4.30751979e-01 -7.60920584e-01  2.30069414e-01 -2.68821657e-01\n",
      " -7.71427155e-01 -1.00692041e-01  2.67233886e-03  1.59446463e-01\n",
      "  1.36337474e-01 -1.83632880e-01 -1.17079222e+00  8.58602375e-02\n",
      " -5.15338659e-01 -4.43149090e-01  1.03825200e+00 -1.66888058e-01\n",
      "  5.50727904e-01 -3.73545289e-01 -1.74670160e-01  2.73039006e-02\n",
      " -7.47697279e-02 -1.99458599e-01 -3.89185399e-01 -7.77939633e-02\n",
      " -8.27496171e-01  7.39337802e-01 -7.84650922e-01 -4.63090420e-01\n",
      " -6.62879109e-01  3.12520474e-01 -3.04381013e-01 -3.49457145e-01\n",
      " -5.04419744e-01  3.47379714e-01  7.52580941e-01  6.43048346e-01\n",
      " -4.21108678e-02 -4.42331374e-01 -7.96245754e-01 -3.63885552e-01\n",
      " -2.94082165e-01  1.51127428e-01 -3.13651711e-01  4.41729575e-01\n",
      "  5.30869007e-01 -2.19536752e-01 -9.69621599e-01 -9.45661031e-03\n",
      "  7.86856174e-01 -9.88060981e-02  3.21970373e-01 -2.91676909e-01\n",
      "  1.21136397e-01  6.92259967e-01  7.10917950e-01 -4.71803069e-01\n",
      "  7.86692381e-01  3.50092888e-01 -7.58673787e-01 -1.49431705e-01\n",
      "  2.31068313e-01 -3.38353813e-01 -2.76197866e-03 -5.56449890e-01\n",
      "  1.10255039e+00 -1.77253246e-01  2.98650324e-01  8.47819522e-02\n",
      "  6.51891589e-01  1.02993059e+00 -1.73287541e-01  1.87068880e-01\n",
      " -6.37654066e-01 -5.89510441e-01  1.25643003e+00 -5.60059667e-01\n",
      " -3.73440057e-01  9.72685963e-02 -3.61258537e-01 -3.30729395e-01\n",
      " -5.47071695e-01 -8.07008922e-01  1.91517860e-01  8.66716802e-01\n",
      "  2.43045256e-01 -1.09643623e-01  1.38022471e-03 -4.26382601e-01\n",
      "  9.59785521e-01  2.09722281e-01 -9.99459386e-01 -1.80430152e-02\n",
      "  5.35056591e-01  5.09648561e-01  3.25858563e-01 -7.66226724e-02\n",
      " -8.86737928e-03 -4.96377885e-01 -4.07019734e-01 -3.97847831e-01\n",
      "  4.94732797e-01  6.76576376e-01  4.77460831e-01  4.81860757e-01\n",
      "  2.02582870e-02 -7.40790546e-01  3.35375786e-01  3.31209898e-01\n",
      " -6.56543374e-02 -1.69208497e-02 -3.13949585e-02  6.68424666e-02\n",
      " -1.00022745e+00  5.13820201e-02  8.52816403e-01 -6.68761551e-01\n",
      " -3.94826144e-01 -5.30877113e-01 -6.52359247e-01  5.46591222e-01\n",
      " -3.32887053e-01  5.39668322e-01 -3.19134057e-01 -8.70856106e-01\n",
      " -7.60015249e-01 -8.98174345e-01  7.77818739e-01 -3.15898925e-01\n",
      "  6.66874275e-02  1.65986806e-01 -6.92965269e-01 -3.21136117e-01\n",
      "  7.46502578e-02 -3.67510349e-01  1.18956007e-02  3.79954755e-01\n",
      " -3.13521564e-01  5.63131213e-01  1.18143129e+00  1.28420696e-01\n",
      " -1.08398545e+00  3.35898191e-01 -3.23603094e-01  2.72739798e-01\n",
      "  2.47204095e-01 -1.07189548e+00 -6.95638478e-01 -1.19956158e-01\n",
      "  4.62248534e-01 -2.78514922e-01  3.82313356e-02 -1.05929717e-01\n",
      "  1.03562284e+00  9.97661352e-01 -3.26908767e-01 -4.93389279e-01\n",
      " -5.65904006e-02 -6.22712001e-02  2.99114764e-01 -1.16370571e+00\n",
      "  4.48889732e-02 -3.61808330e-01  7.05611408e-01  5.64632773e-01\n",
      " -5.63534081e-01  4.59306121e-01 -2.98387587e-01  4.94484782e-01\n",
      " -4.79032472e-02 -2.17568189e-01 -1.31493554e-01 -7.94624686e-02\n",
      "  1.10773659e+00  2.26236641e-01 -5.34949481e-01 -1.83304846e-01\n",
      " -5.55934161e-02  2.00851813e-01  1.20536774e-01 -2.70076811e-01\n",
      "  9.88765836e-01 -5.59490681e-01 -3.89450341e-01 -8.97686109e-02\n",
      " -1.49317056e-01  1.52518201e+00  7.48359561e-01 -3.35868686e-01\n",
      "  1.51448619e+00 -6.62901282e-01 -8.35828662e-01 -2.87322283e-01\n",
      " -8.36194381e-02 -4.59622175e-01  2.89755195e-01  2.64997602e-01\n",
      "  6.28023967e-02  6.76450849e-01 -1.79964989e-01  5.64520121e-01\n",
      " -7.77079761e-01  3.93142402e-01 -6.63522482e-01 -1.38466001e-01\n",
      " -3.34873676e-01 -3.31680402e-02 -1.58107392e-02  1.60242721e-01\n",
      " -3.05653840e-01  8.83945286e-01  6.45135164e-01  1.49641603e-01\n",
      " -7.94199407e-02 -1.70493290e-01 -6.98102057e-01 -1.46488115e-01\n",
      "  3.53827208e-01  8.01651835e-01 -4.34411883e-01 -4.19914126e-01\n",
      " -1.71586841e-01 -5.34778833e-01 -5.31053185e-01  5.81070721e-01\n",
      " -3.49323869e-01  7.21821338e-02  7.50978410e-01  7.42012739e-01\n",
      "  6.26126587e-01 -2.50241429e-01 -4.29858476e-01 -2.11908594e-02\n",
      " -7.69163668e-02  4.95929062e-01  2.95330912e-01 -8.23376656e-01\n",
      "  5.81668377e-01  8.28755736e-01  1.84567988e-01 -3.48430067e-01\n",
      "  3.32963884e-01  1.40177026e-01 -4.95842785e-01 -3.45177114e-01\n",
      " -4.40194130e-01  4.65979964e-01  2.79814482e-01 -4.07148451e-01\n",
      " -1.77425697e-01 -5.27126312e-01  2.55690143e-03  8.00925568e-02\n",
      "  3.51629376e-01  1.22167039e+00 -3.72027546e-01 -1.93000764e-01\n",
      " -9.41977441e-01  5.48506379e-01 -6.22137427e-01 -2.49226943e-01\n",
      "  5.99541306e-01  4.51695263e-01 -6.58918142e-01 -3.96064013e-01\n",
      "  1.79000765e-01  7.48186886e-01 -5.84272146e-02 -1.23349637e-01\n",
      " -2.02730685e-01 -6.21583641e-01 -1.30416110e-01 -5.24816662e-02\n",
      " -2.00850591e-01 -6.58160269e-01  1.53379560e-01 -1.32417589e-01\n",
      "  4.48517233e-01  8.85462940e-01  1.28300726e-01  3.04156601e-01\n",
      "  3.37692648e-02  9.97104794e-02 -4.23816293e-01 -6.90116942e-01\n",
      " -2.64899552e-01 -4.31903094e-01  1.17996093e-02 -6.79932177e-01\n",
      "  8.08023512e-01 -6.76568687e-01  4.60221052e-01 -9.61752236e-03\n",
      " -3.60325351e-03 -6.92122638e-01  1.74102560e-01 -1.84121817e-01\n",
      " -3.51948440e-01 -6.23438954e-01  3.69377375e-01 -6.83030486e-03\n",
      " -2.88110197e-01 -1.05970562e-01  1.88233986e-01  2.44904608e-01\n",
      "  8.26758802e-01  3.42246324e-01  2.59999335e-01  6.63384348e-02\n",
      " -7.52005458e-01 -1.75791159e-01  3.13203871e-01  1.62561864e-01\n",
      " -2.44218647e-01 -1.10539675e+00  7.58836150e-01  5.89662075e-01\n",
      " -5.78477919e-01  4.52471435e-01  3.59826803e-01 -1.44923538e-01\n",
      " -1.88481301e-01 -2.82562822e-01 -1.95603877e-01 -8.96328509e-01\n",
      "  3.17920327e-01 -7.51410276e-02  3.40450376e-01  3.38678986e-01\n",
      " -3.03522080e-01 -8.18241954e-01 -7.98472047e-01  2.83279449e-01\n",
      "  9.88758057e-02  7.18736231e-01 -3.27555686e-02 -1.01523641e-02\n",
      " -1.40820235e-01 -9.89566147e-02  4.51324463e-01  6.50858656e-02\n",
      "  1.86661765e-01 -8.51574540e-01 -3.39941055e-01 -1.19494461e-01\n",
      " -1.01339802e-01  6.09100997e-01  2.68653393e-01 -8.94608676e-01\n",
      " -4.06250775e-01  6.15868717e-03 -1.92076206e-01  1.75396964e-01\n",
      " -4.97350842e-01  9.17741656e-03  1.19340897e+00  2.31820360e-01\n",
      "  2.08536714e-01  2.30309516e-01  1.22741386e-01 -6.61057711e-01\n",
      "  4.37798113e-01  4.73810017e-01  6.31189227e-01  2.97086895e-01]\n"
     ]
    }
   ],
   "source": [
    "from experiment.helper import Embedding, EmbeddingType\n",
    "\n",
    "token_bert = Embedding(EmbeddingType.BERT_TOKENS)\n",
    "bert_token_embeddings = token_bert.get_embeddings()\n",
    "\n",
    "for index, word in enumerate(bert_token_embeddings.keys()):\n",
    "    if index == 1:\n",
    "        break\n",
    "    print(f\"{index}: {word} \\n {bert_token_embeddings[word]}\")"
   ]
  },
  {
   "cell_type": "code",
   "execution_count": 52,
   "metadata": {},
   "outputs": [],
   "source": [
    "from transformers import BertTokenizer\n",
    "\n",
    "def tokenize(texts):\n",
    "    tokenizer = BertTokenizer.from_pretrained('bert-base-uncased')\n",
    "    tokens = []\n",
    "    \n",
    "    for text in texts:\n",
    "        inputs = tokenizer(text)\n",
    "        text_tokens = tokenizer.convert_ids_to_tokens(inputs['input_ids'])\n",
    "        tokens.append(text_tokens)\n",
    "        \n",
    "    return tokens"
   ]
  },
  {
   "cell_type": "code",
   "execution_count": 53,
   "metadata": {},
   "outputs": [],
   "source": [
    "def create_bert_token_data():\n",
    "    rawcols, texts = zip(*[[ex.colors, ex.contents] for ex in examples])\n",
    "    \n",
    "    all_tokens = tokenize(texts)\n",
    "    vocab_tokens = [item for sublist in all_tokens for item in sublist]\n",
    "    vocab = set(vocab_tokens)\n",
    "\n",
    "    raw_colors_train, raw_colors_test, texts_train, texts_test = \\\n",
    "        train_test_split(rawcols, texts)\n",
    "\n",
    "    colors_train = [\n",
    "        color_encoder.encode_color_context(colors) for colors in raw_colors_train\n",
    "    ]\n",
    "    \n",
    "    colors_test = [\n",
    "        color_encoder.encode_color_context(colors) for colors in raw_colors_test\n",
    "    ]\n",
    "\n",
    "    tokens_train = tokenize(texts_train)\n",
    "    tokens_test = tokenize(texts_test)\n",
    "    \n",
    "    return list(vocab), colors_train, colors_test, tokens_train, tokens_test"
   ]
  },
  {
   "cell_type": "code",
   "execution_count": 54,
   "metadata": {},
   "outputs": [],
   "source": [
    "vocab, colors_train, colors_test, tokens_train, tokens_test = create_bert_token_data()"
   ]
  },
  {
   "cell_type": "code",
   "execution_count": 57,
   "metadata": {},
   "outputs": [],
   "source": [
    "bert_token_embeddings, vocab = bert.get_vocabulary_embeddings(vocabulary=vocab)"
   ]
  },
  {
   "cell_type": "code",
   "execution_count": 58,
   "metadata": {},
   "outputs": [],
   "source": [
    "token_bert_model = BaselineDescriber(\n",
    "    vocab,\n",
    "    embedding=bert_token_embeddings,\n",
    "    early_stopping=True\n",
    ")"
   ]
  },
  {
   "cell_type": "code",
   "execution_count": null,
   "metadata": {},
   "outputs": [],
   "source": [
    "%time _ = token_bert_model.fit(colors_train, tokens_train)"
   ]
  },
  {
   "cell_type": "code",
   "execution_count": null,
   "metadata": {},
   "outputs": [],
   "source": [
    "token_bert_model.evaluate(colors_test, tokens_test)"
   ]
  },
  {
   "cell_type": "markdown",
   "metadata": {},
   "source": [
    "### BERT - Embeddings\n",
    "\n",
    "Uses embeddings from the BERT model which were created using baseline tokenizer (whole words) and the nlu library."
   ]
  },
  {
   "cell_type": "code",
   "execution_count": 59,
   "metadata": {},
   "outputs": [
    {
     "name": "stdout",
     "output_type": "stream",
     "text": [
      "0: 1 \n",
      " [-6.38427794e-01 -2.01340929e-01 -3.03408146e-01 -5.64259529e-01\n",
      " -1.20634638e-01 -2.48514056e-01  1.12583593e-01 -6.26233071e-02\n",
      "  2.34618008e-01 -7.53728569e-01 -3.71900469e-01 -3.23626161e-01\n",
      "  3.15438926e-01 -1.61926657e-01  4.69628870e-02  4.44134921e-01\n",
      " -2.06054207e-02  2.00471729e-01  3.52511972e-01  7.54071057e-01\n",
      "  2.52103031e-01  2.83721000e-01 -6.28947794e-01  1.87162310e-01\n",
      "  1.59362093e-01  7.16134608e-01 -1.88292116e-01 -2.85534590e-01\n",
      " -3.00664902e-01  1.07732832e+00  6.27519548e-01 -7.54074216e-01\n",
      "  8.73289287e-01  6.17699146e-01 -1.81464091e-01  2.84518898e-01\n",
      "  3.27771246e-01 -6.50475174e-03 -3.55128795e-02 -2.71295220e-01\n",
      "  3.80701303e-01 -2.64663517e-01  3.24273482e-02 -8.36178720e-01\n",
      "  5.25373578e-01  8.18388402e-01 -2.87781894e-01 -3.42957303e-02\n",
      " -9.61877823e-01 -1.82180300e-01 -5.85041404e-01 -2.97508538e-01\n",
      " -2.47224152e-01  3.20151895e-01  4.21531737e-01 -8.78680587e-01\n",
      "  3.02537024e-01  1.86673820e-01 -5.36366463e-01 -3.38853896e-01\n",
      "  1.03464258e+00 -2.08153054e-02  3.72910887e-01  2.68510222e-01\n",
      " -2.53697008e-01  2.66594350e-01  7.01930583e-01  2.73638546e-01\n",
      " -5.93148708e-01  5.09779096e-01 -1.80743337e-01 -7.39884600e-02\n",
      "  3.91672581e-01 -4.03816879e-01  5.86865246e-01 -8.42298046e-02\n",
      "  3.34664524e-01  2.83214133e-02  3.47182572e-01 -6.00217998e-01\n",
      "  7.41633594e-01 -4.67836820e-02 -1.93946198e-01  3.66275549e-01\n",
      " -1.20999470e-01  2.36894265e-01  1.83713064e-01 -3.90451074e-01\n",
      " -6.74799085e-01  5.30950464e-02 -5.68630695e-01  1.12805650e-01\n",
      " -6.38674617e-01  2.98575193e-01  3.15392703e-01 -8.48089039e-01\n",
      " -8.95759583e-01  1.42018870e-01  1.37251809e-01 -9.18492973e-01\n",
      " -4.81584489e-01  4.90192652e-01 -3.18991750e-01  1.56174839e-01\n",
      " -4.63293135e-01  3.59295249e-01 -4.94012423e-02 -4.27439332e-01\n",
      " -5.07108569e-02 -1.51235880e-02 -1.21484160e-01  1.24414451e-01\n",
      "  2.09421918e-01  2.09135607e-01  4.68944997e-01  1.12568271e+00\n",
      " -3.80396277e-01 -3.43723774e-01 -2.34530210e-01  3.84890050e-01\n",
      " -4.27480899e-02  7.41763636e-02 -3.86176616e-01  4.10380960e-01\n",
      " -1.24614269e-01  1.60020068e-01 -1.05661146e-01 -2.82186925e-01\n",
      "  6.11124374e-02 -3.55120078e-02 -4.65154260e-01 -1.22972868e-01\n",
      " -2.42845967e-01  5.16655669e-02 -1.53532118e-01 -9.11207721e-02\n",
      " -1.03553958e-01 -3.27209711e-01  6.10104561e-01 -8.19385648e-01\n",
      "  7.73520291e-01  1.09003878e+00  4.73699063e-01 -4.59811538e-01\n",
      "  5.07532656e-02 -1.09416246e-01 -2.02564761e-01  1.41709715e-01\n",
      " -1.35201737e-01 -1.85122490e-01 -1.42048866e-01  1.20796227e+00\n",
      " -3.16726625e-01 -1.05535972e+00 -4.38256562e-01 -6.23791635e-01\n",
      " -1.34053022e-01  8.15630794e-01 -1.76108569e-01  5.91035724e-01\n",
      "  9.96869624e-01  4.01563287e-01  1.45833671e-01  1.42220485e+00\n",
      "  1.80518270e-01  4.89661872e-01  3.12489629e-01  1.34160328e+00\n",
      "  2.19715998e-01 -3.24487209e-01 -3.82164478e-01 -7.03840613e-01\n",
      "  1.42111635e+00 -1.63956612e-01 -5.16989410e-01  9.18052912e-01\n",
      "  8.44705224e-01  7.77706683e-01 -2.32180089e-01 -3.73144746e-01\n",
      " -5.27266860e-01  2.31788442e-01  1.72338560e-01 -5.26355684e-01\n",
      " -1.01770386e-01  3.77934754e-01  8.13625216e-01 -5.05311549e-01\n",
      "  7.68996179e-01  1.93030745e-01 -3.99938643e-01 -7.86018372e-01\n",
      "  7.07131803e-01 -9.42079797e-02  2.12835923e-01  1.06726259e-01\n",
      " -1.43891022e-01 -1.03531718e+00  6.50622547e-01 -4.38329697e-01\n",
      "  6.07275724e-01 -1.38997316e-01  6.43778443e-01  3.72250766e-01\n",
      " -5.83158910e-01  9.18032765e-01 -5.36570549e-01 -2.61539638e-01\n",
      "  2.50284791e-01 -2.76720017e-01 -7.73923934e-01  1.32356501e+00\n",
      "  1.16791174e-01 -1.35785207e-01  4.63768661e-01 -6.87882483e-01\n",
      "  4.64144707e-01 -4.01146919e-01 -2.94943839e-01 -3.16639543e-01\n",
      " -7.98466876e-02 -1.23214021e-01 -2.02497929e-01  2.41732016e-01\n",
      " -8.20594609e-01  2.24122047e-01 -2.19429508e-02 -6.44643486e-01\n",
      "  4.88687664e-01  3.72927636e-02 -6.11436963e-01 -3.46669227e-01\n",
      "  2.96052933e-01 -2.99454629e-01 -6.77010238e-01  6.39407218e-01\n",
      " -4.58997965e-01 -3.04005742e-01 -1.59265876e-01 -5.72241843e-04\n",
      " -6.35634720e-01 -4.84594643e-01  3.88940305e-01  9.22538280e-01\n",
      " -2.45223135e-01  7.05707312e-01  9.93871212e-01 -2.03629315e-01\n",
      "  1.10949725e-02 -4.43313718e-02 -1.67947844e-01 -9.37794387e-01\n",
      " -3.10699910e-01 -5.18497169e-01 -2.30422229e-01 -7.06573069e-01\n",
      " -4.53478009e-01 -5.68669319e-01  1.16862044e-01  6.80085421e-01\n",
      " -1.87764280e-02 -2.15593159e-01  6.04272306e-01 -1.03484340e-01\n",
      " -4.82291356e-03  2.59702384e-01 -4.16444242e-02  3.32877100e-01\n",
      "  7.12703988e-02  2.40993679e-01 -2.70946056e-01  1.14863344e-01\n",
      "  1.17998526e-01  5.25053218e-02 -1.57035217e-01  3.28371972e-01\n",
      "  7.03065336e-01  1.36445686e-01  1.43291980e-01  4.04243916e-01\n",
      "  1.00348145e-03 -4.63955134e-01 -3.92539978e-01  3.03134739e-01\n",
      "  4.07642305e-01 -3.19609046e-01 -5.13804317e-01 -9.23840702e-01\n",
      "  2.46300161e-01 -1.70387045e-01 -2.77763009e-01  4.20638502e-01\n",
      "  9.39147845e-02 -3.46746355e-01  2.77339816e-01  9.18185711e-02\n",
      " -2.99856544e-01 -3.98193181e-01 -3.06768864e-01  5.77502549e-02\n",
      " -5.94613552e-01  3.08853745e-01 -9.95480895e-01 -8.31995487e-01\n",
      "  5.06742001e-01  1.11069191e+00 -2.30296314e-01 -4.37605530e-01\n",
      " -4.38883400e+00 -3.98833692e-01 -1.05590081e+00  1.37254708e-02\n",
      "  1.85053810e-01 -1.12853564e-01 -9.29748937e-02  5.56512177e-02\n",
      " -5.13234198e-01 -2.20988274e-01  9.79731083e-01 -3.74730080e-01\n",
      "  2.77207226e-01  1.04027182e-01  9.06142533e-01 -3.63344729e-01\n",
      "  5.46018742e-02 -5.32684565e-01 -7.25751638e-01  8.04517806e-01\n",
      " -4.33072001e-01 -1.21606886e-02  1.04094589e+00 -9.32473183e-01\n",
      " -2.84606725e-01  7.41195321e-01 -9.68101025e-02  5.20045400e-01\n",
      " -1.36110210e+00 -1.69078380e-01 -2.23455995e-01 -6.91922188e-01\n",
      "  3.10027078e-02  8.08207631e-01 -1.69752032e-01  5.22163689e-01\n",
      "  4.55356121e-01 -5.29177845e-01  1.23350978e+00  8.76798183e-02\n",
      "  2.44161233e-01 -1.36775717e-01  6.44926354e-02  4.54752773e-01\n",
      "  2.88928270e-01 -4.23455566e-01  1.00866151e+00 -4.10209805e-01\n",
      " -1.10280327e-02 -5.95661961e-02 -5.23132011e-02 -3.05497885e-01\n",
      "  2.78676301e-01 -7.89460421e-01  1.36974812e-01  5.02507746e-01\n",
      "  1.57616362e-01  4.46477681e-02  4.11224104e-02 -2.66287059e-01\n",
      "  4.04957175e-01 -4.06635195e-01 -7.90032983e-01  8.52638721e-01\n",
      " -1.63323736e+00  3.95199656e-02  1.56312406e-01 -4.46829200e-01\n",
      "  2.15160310e-01 -1.24708116e-02 -1.29237369e-01  3.48278403e-01\n",
      "  5.65855861e-01 -1.09963417e+00 -8.70724618e-01  4.70537663e-01\n",
      " -6.15727067e-01 -1.27521038e-01  2.62055229e-02 -4.38279510e-01\n",
      " -1.41171187e-01 -5.71629331e-02  1.09290391e-01  6.39688969e-01\n",
      "  4.06037837e-01  1.04011703e+00  3.84901196e-01 -2.49398440e-01\n",
      " -3.05071533e-01 -2.04034448e-01  1.67901181e-02  4.56639141e-01\n",
      "  8.59454215e-01  2.50694007e-01  7.12290883e-01 -6.78236306e-01\n",
      "  4.30751979e-01 -7.60920584e-01  2.30069414e-01 -2.68821657e-01\n",
      " -7.71427155e-01 -1.00692041e-01  2.67233886e-03  1.59446463e-01\n",
      "  1.36337474e-01 -1.83632880e-01 -1.17079222e+00  8.58602375e-02\n",
      " -5.15338659e-01 -4.43149090e-01  1.03825200e+00 -1.66888058e-01\n",
      "  5.50727904e-01 -3.73545289e-01 -1.74670160e-01  2.73039006e-02\n",
      " -7.47697279e-02 -1.99458599e-01 -3.89185399e-01 -7.77939633e-02\n",
      " -8.27496171e-01  7.39337802e-01 -7.84650922e-01 -4.63090420e-01\n",
      " -6.62879109e-01  3.12520474e-01 -3.04381013e-01 -3.49457145e-01\n",
      " -5.04419744e-01  3.47379714e-01  7.52580941e-01  6.43048346e-01\n",
      " -4.21108678e-02 -4.42331374e-01 -7.96245754e-01 -3.63885552e-01\n",
      " -2.94082165e-01  1.51127428e-01 -3.13651711e-01  4.41729575e-01\n",
      "  5.30869007e-01 -2.19536752e-01 -9.69621599e-01 -9.45661031e-03\n",
      "  7.86856174e-01 -9.88060981e-02  3.21970373e-01 -2.91676909e-01\n",
      "  1.21136397e-01  6.92259967e-01  7.10917950e-01 -4.71803069e-01\n",
      "  7.86692381e-01  3.50092888e-01 -7.58673787e-01 -1.49431705e-01\n",
      "  2.31068313e-01 -3.38353813e-01 -2.76197866e-03 -5.56449890e-01\n",
      "  1.10255039e+00 -1.77253246e-01  2.98650324e-01  8.47819522e-02\n",
      "  6.51891589e-01  1.02993059e+00 -1.73287541e-01  1.87068880e-01\n",
      " -6.37654066e-01 -5.89510441e-01  1.25643003e+00 -5.60059667e-01\n",
      " -3.73440057e-01  9.72685963e-02 -3.61258537e-01 -3.30729395e-01\n",
      " -5.47071695e-01 -8.07008922e-01  1.91517860e-01  8.66716802e-01\n",
      "  2.43045256e-01 -1.09643623e-01  1.38022471e-03 -4.26382601e-01\n",
      "  9.59785521e-01  2.09722281e-01 -9.99459386e-01 -1.80430152e-02\n",
      "  5.35056591e-01  5.09648561e-01  3.25858563e-01 -7.66226724e-02\n",
      " -8.86737928e-03 -4.96377885e-01 -4.07019734e-01 -3.97847831e-01\n",
      "  4.94732797e-01  6.76576376e-01  4.77460831e-01  4.81860757e-01\n",
      "  2.02582870e-02 -7.40790546e-01  3.35375786e-01  3.31209898e-01\n",
      " -6.56543374e-02 -1.69208497e-02 -3.13949585e-02  6.68424666e-02\n",
      " -1.00022745e+00  5.13820201e-02  8.52816403e-01 -6.68761551e-01\n",
      " -3.94826144e-01 -5.30877113e-01 -6.52359247e-01  5.46591222e-01\n",
      " -3.32887053e-01  5.39668322e-01 -3.19134057e-01 -8.70856106e-01\n",
      " -7.60015249e-01 -8.98174345e-01  7.77818739e-01 -3.15898925e-01\n",
      "  6.66874275e-02  1.65986806e-01 -6.92965269e-01 -3.21136117e-01\n",
      "  7.46502578e-02 -3.67510349e-01  1.18956007e-02  3.79954755e-01\n",
      " -3.13521564e-01  5.63131213e-01  1.18143129e+00  1.28420696e-01\n",
      " -1.08398545e+00  3.35898191e-01 -3.23603094e-01  2.72739798e-01\n",
      "  2.47204095e-01 -1.07189548e+00 -6.95638478e-01 -1.19956158e-01\n",
      "  4.62248534e-01 -2.78514922e-01  3.82313356e-02 -1.05929717e-01\n",
      "  1.03562284e+00  9.97661352e-01 -3.26908767e-01 -4.93389279e-01\n",
      " -5.65904006e-02 -6.22712001e-02  2.99114764e-01 -1.16370571e+00\n",
      "  4.48889732e-02 -3.61808330e-01  7.05611408e-01  5.64632773e-01\n",
      " -5.63534081e-01  4.59306121e-01 -2.98387587e-01  4.94484782e-01\n",
      " -4.79032472e-02 -2.17568189e-01 -1.31493554e-01 -7.94624686e-02\n",
      "  1.10773659e+00  2.26236641e-01 -5.34949481e-01 -1.83304846e-01\n",
      " -5.55934161e-02  2.00851813e-01  1.20536774e-01 -2.70076811e-01\n",
      "  9.88765836e-01 -5.59490681e-01 -3.89450341e-01 -8.97686109e-02\n",
      " -1.49317056e-01  1.52518201e+00  7.48359561e-01 -3.35868686e-01\n",
      "  1.51448619e+00 -6.62901282e-01 -8.35828662e-01 -2.87322283e-01\n",
      " -8.36194381e-02 -4.59622175e-01  2.89755195e-01  2.64997602e-01\n",
      "  6.28023967e-02  6.76450849e-01 -1.79964989e-01  5.64520121e-01\n",
      " -7.77079761e-01  3.93142402e-01 -6.63522482e-01 -1.38466001e-01\n",
      " -3.34873676e-01 -3.31680402e-02 -1.58107392e-02  1.60242721e-01\n",
      " -3.05653840e-01  8.83945286e-01  6.45135164e-01  1.49641603e-01\n",
      " -7.94199407e-02 -1.70493290e-01 -6.98102057e-01 -1.46488115e-01\n",
      "  3.53827208e-01  8.01651835e-01 -4.34411883e-01 -4.19914126e-01\n",
      " -1.71586841e-01 -5.34778833e-01 -5.31053185e-01  5.81070721e-01\n",
      " -3.49323869e-01  7.21821338e-02  7.50978410e-01  7.42012739e-01\n",
      "  6.26126587e-01 -2.50241429e-01 -4.29858476e-01 -2.11908594e-02\n",
      " -7.69163668e-02  4.95929062e-01  2.95330912e-01 -8.23376656e-01\n",
      "  5.81668377e-01  8.28755736e-01  1.84567988e-01 -3.48430067e-01\n",
      "  3.32963884e-01  1.40177026e-01 -4.95842785e-01 -3.45177114e-01\n",
      " -4.40194130e-01  4.65979964e-01  2.79814482e-01 -4.07148451e-01\n",
      " -1.77425697e-01 -5.27126312e-01  2.55690143e-03  8.00925568e-02\n",
      "  3.51629376e-01  1.22167039e+00 -3.72027546e-01 -1.93000764e-01\n",
      " -9.41977441e-01  5.48506379e-01 -6.22137427e-01 -2.49226943e-01\n",
      "  5.99541306e-01  4.51695263e-01 -6.58918142e-01 -3.96064013e-01\n",
      "  1.79000765e-01  7.48186886e-01 -5.84272146e-02 -1.23349637e-01\n",
      " -2.02730685e-01 -6.21583641e-01 -1.30416110e-01 -5.24816662e-02\n",
      " -2.00850591e-01 -6.58160269e-01  1.53379560e-01 -1.32417589e-01\n",
      "  4.48517233e-01  8.85462940e-01  1.28300726e-01  3.04156601e-01\n",
      "  3.37692648e-02  9.97104794e-02 -4.23816293e-01 -6.90116942e-01\n",
      " -2.64899552e-01 -4.31903094e-01  1.17996093e-02 -6.79932177e-01\n",
      "  8.08023512e-01 -6.76568687e-01  4.60221052e-01 -9.61752236e-03\n",
      " -3.60325351e-03 -6.92122638e-01  1.74102560e-01 -1.84121817e-01\n",
      " -3.51948440e-01 -6.23438954e-01  3.69377375e-01 -6.83030486e-03\n",
      " -2.88110197e-01 -1.05970562e-01  1.88233986e-01  2.44904608e-01\n",
      "  8.26758802e-01  3.42246324e-01  2.59999335e-01  6.63384348e-02\n",
      " -7.52005458e-01 -1.75791159e-01  3.13203871e-01  1.62561864e-01\n",
      " -2.44218647e-01 -1.10539675e+00  7.58836150e-01  5.89662075e-01\n",
      " -5.78477919e-01  4.52471435e-01  3.59826803e-01 -1.44923538e-01\n",
      " -1.88481301e-01 -2.82562822e-01 -1.95603877e-01 -8.96328509e-01\n",
      "  3.17920327e-01 -7.51410276e-02  3.40450376e-01  3.38678986e-01\n",
      " -3.03522080e-01 -8.18241954e-01 -7.98472047e-01  2.83279449e-01\n",
      "  9.88758057e-02  7.18736231e-01 -3.27555686e-02 -1.01523641e-02\n",
      " -1.40820235e-01 -9.89566147e-02  4.51324463e-01  6.50858656e-02\n",
      "  1.86661765e-01 -8.51574540e-01 -3.39941055e-01 -1.19494461e-01\n",
      " -1.01339802e-01  6.09100997e-01  2.68653393e-01 -8.94608676e-01\n",
      " -4.06250775e-01  6.15868717e-03 -1.92076206e-01  1.75396964e-01\n",
      " -4.97350842e-01  9.17741656e-03  1.19340897e+00  2.31820360e-01\n",
      "  2.08536714e-01  2.30309516e-01  1.22741386e-01 -6.61057711e-01\n",
      "  4.37798113e-01  4.73810017e-01  6.31189227e-01  2.97086895e-01]\n"
     ]
    }
   ],
   "source": [
    "from experiment.helper import Embedding, EmbeddingType\n",
    "\n",
    "bert = Embedding(EmbeddingType.BERT)\n",
    "bert_embeddings = bert.get_embeddings()\n",
    "\n",
    "for index, word in enumerate(bert_embeddings.keys()):\n",
    "    if index == 1:\n",
    "        break\n",
    "    print(f\"{index}: {word} \\n {bert_embeddings[word]}\")"
   ]
  },
  {
   "cell_type": "code",
   "execution_count": 63,
   "metadata": {},
   "outputs": [],
   "source": [
    "def tokenize(texts):\n",
    "    tokenizer = BaselineTokenizer()\n",
    "    tokens = []\n",
    "    \n",
    "    for text in texts:\n",
    "        text_tokens = tokenizer.encode(text)\n",
    "        tokens.append(text_tokens)\n",
    "        \n",
    "    return tokens"
   ]
  },
  {
   "cell_type": "code",
   "execution_count": 64,
   "metadata": {},
   "outputs": [],
   "source": [
    "def create_bert_data():\n",
    "    rawcols, texts = zip(*[[ex.colors, ex.contents] for ex in examples])\n",
    "    \n",
    "    all_tokens = tokenize(texts)\n",
    "    vocab_tokens = [item for sublist in all_tokens for item in sublist]\n",
    "    vocab = set(vocab_tokens)\n",
    "\n",
    "    raw_colors_train, raw_colors_test, texts_train, texts_test = \\\n",
    "        train_test_split(rawcols, texts)\n",
    "\n",
    "    colors_train = [\n",
    "        color_encoder.encode_color_context(colors) for colors in raw_colors_train\n",
    "    ]\n",
    "    \n",
    "    colors_test = [\n",
    "        color_encoder.encode_color_context(colors) for colors in raw_colors_test\n",
    "    ]\n",
    "\n",
    "    tokens_train = tokenize(texts_train)\n",
    "    tokens_test = tokenize(texts_test)\n",
    "    \n",
    "    return list(vocab), colors_train, colors_test, tokens_train, tokens_test"
   ]
  },
  {
   "cell_type": "code",
   "execution_count": 65,
   "metadata": {},
   "outputs": [],
   "source": [
    "vocab, colors_train, colors_test, tokens_train, tokens_test = create_bert_data()"
   ]
  },
  {
   "cell_type": "code",
   "execution_count": 66,
   "metadata": {},
   "outputs": [],
   "source": [
    "bert_vocab_embeddings, vocab = bert.get_vocabulary_embeddings(vocabulary=vocab)"
   ]
  },
  {
   "cell_type": "code",
   "execution_count": 67,
   "metadata": {},
   "outputs": [],
   "source": [
    "bert_model = BaselineDescriber(\n",
    "    vocab,\n",
    "    embedding=bert_vocab_embeddings,\n",
    "    early_stopping=True\n",
    ")"
   ]
  },
  {
   "cell_type": "code",
   "execution_count": 68,
   "metadata": {},
   "outputs": [
    {
     "name": "stderr",
     "output_type": "stream",
     "text": [
      "/Users/jh/ai/courses/stanford/2-NLU/final_project/3-xcs224u_final_paper/code/utils/torch_color_describer.py:680: RuntimeWarning: divide by zero encountered in power\n",
      "  perp = [np.prod(s)**(-1/len(s)) for s in scores]\n",
      "Stopping after epoch 64. Validation score did not improve by tol=1e-05 for more than 10 epochs. Final error is 111.90580177307129"
     ]
    },
    {
     "name": "stdout",
     "output_type": "stream",
     "text": [
      "CPU times: user 3h 22min 16s, sys: 1h 10min 21s, total: 4h 32min 37s\n",
      "Wall time: 1h 54min 38s\n"
     ]
    }
   ],
   "source": [
    "%time _ = token_bert_model.fit(colors_train, tokens_train)"
   ]
  },
  {
   "cell_type": "code",
   "execution_count": 69,
   "metadata": {},
   "outputs": [
    {
     "data": {
      "text/plain": [
       "{'listener_accuracy': 0.804323772235935, 'corpus_bleu': 0.5055816143244241}"
      ]
     },
     "execution_count": 69,
     "metadata": {},
     "output_type": "execute_result"
    }
   ],
   "source": [
    "token_bert_model.evaluate(colors_test, tokens_test)"
   ]
  },
  {
   "cell_type": "markdown",
   "metadata": {},
   "source": [
    "### GPT-3: Few-Shot-Learning"
   ]
  },
  {
   "cell_type": "markdown",
   "metadata": {},
   "source": [
    "This section compares the GPT-3 performance with the baseline system as well as the transformer section. GPT-3 uses system conditioning with zero-shot or few-short learning."
   ]
  },
  {
   "cell_type": "code",
   "execution_count": null,
   "metadata": {},
   "outputs": [],
   "source": [
    "# some more experiment with GPT-3 maybe to compare with few-shot-learning\n",
    "\n",
    "# conditioning sequence:\n",
    "#I am a highly intelligent question answering bot that can describe colors with human readable text as precisely as possible. Given an array of three context colors with their RGB (red, green, blue) values, describe the target color in such a way that a human could recognize the target color even if the colors were reordered. The target color is the last color in the array.\n",
    "\n",
    "for example in (split_examples + close_examples)[:10]:\n",
    "    print(f\"\\nQ: Describe the target color of {example.rgb_colors()}.\")\n",
    "    print(f\"A: {example.contents}.\")\n",
    "    example.display(print_contents=False)"
   ]
  },
  {
   "cell_type": "code",
   "execution_count": null,
   "metadata": {},
   "outputs": [],
   "source": []
  }
 ],
 "metadata": {
  "kernelspec": {
   "display_name": "nlu",
   "language": "python",
   "name": "nlu"
  },
  "language_info": {
   "codemirror_mode": {
    "name": "ipython",
    "version": 3
   },
   "file_extension": ".py",
   "mimetype": "text/x-python",
   "name": "python",
   "nbconvert_exporter": "python",
   "pygments_lexer": "ipython3",
   "version": "3.7.9"
  }
 },
 "nbformat": 4,
 "nbformat_minor": 4
}
