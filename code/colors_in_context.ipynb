{
 "cells": [
  {
   "cell_type": "code",
   "execution_count": 1,
   "metadata": {},
   "outputs": [],
   "source": [
    "__authors__ = \"Anton Gochev, Jaro Habr, Yan Jiang, Samuel Kahn\"\n",
    "__version__ = \"XCS224u, Stanford, Spring 2021\""
   ]
  },
  {
   "cell_type": "markdown",
   "metadata": {},
   "source": [
    "## Contents\n",
    "\n",
    "1. [Setup](#Setup)\n",
    "1. [Dataset](#Dataset)\n",
    "1. [Baseline-System](#Baseline-System)\n",
    "1. [Experiments](#Experiments)\n",
    "  1. [Transformers](#Transformers)\n",
    "  1. [GPT-3: Few-Short-Learning](#GPT-3:-Few-Shot-Learning)"
   ]
  },
  {
   "cell_type": "markdown",
   "metadata": {},
   "source": [
    "## Setup"
   ]
  },
  {
   "cell_type": "code",
   "execution_count": 1,
   "metadata": {},
   "outputs": [],
   "source": [
    "from colors import ColorsCorpusReader\n",
    "import os\n",
    "import pandas as pd\n",
    "from sklearn.model_selection import train_test_split\n",
    "import torch\n",
    "from torch_color_describer import ContextualColorDescriber, create_example_dataset\n",
    "import utils\n",
    "from utils import UNK_SYMBOL\n",
    "import matplotlib.pyplot as plt\n",
    "import matplotlib.patches as mpatch\n",
    "import numpy as np\n",
    "from baseline import (\n",
    "    BaselineTokenizer, BaselineColorEncoder,\n",
    "    BaselineEmbedding, BaselineDescriber, GloVeEmbedding\n",
    ")"
   ]
  },
  {
   "cell_type": "markdown",
   "metadata": {},
   "source": [
    "## Dataset"
   ]
  },
  {
   "cell_type": "markdown",
   "metadata": {},
   "source": [
    "This exploration of the dataset counts the examples for different classes and plots the words distribition in order to see any data imbalance issues."
   ]
  },
  {
   "cell_type": "code",
   "execution_count": 2,
   "metadata": {},
   "outputs": [],
   "source": [
    "COLORS_SRC_FILENAME = os.path.join(\n",
    "    \"data\", \"colors\", \"filteredCorpus.csv\"\n",
    ")"
   ]
  },
  {
   "cell_type": "code",
   "execution_count": 3,
   "metadata": {},
   "outputs": [],
   "source": [
    "corpus = ColorsCorpusReader(\n",
    "    COLORS_SRC_FILENAME,\n",
    "    word_count=None,\n",
    "    normalize_colors=True\n",
    ")"
   ]
  },
  {
   "cell_type": "code",
   "execution_count": 4,
   "metadata": {},
   "outputs": [],
   "source": [
    "examples = list(corpus.read())"
   ]
  },
  {
   "cell_type": "code",
   "execution_count": 5,
   "metadata": {},
   "outputs": [
    {
     "data": {
      "text/plain": [
       "46994"
      ]
     },
     "execution_count": 5,
     "metadata": {},
     "output_type": "execute_result"
    }
   ],
   "source": [
    "len(examples)"
   ]
  },
  {
   "cell_type": "code",
   "execution_count": 6,
   "metadata": {},
   "outputs": [],
   "source": [
    "close_examples = [example for example in examples if example.condition == \"close\"]\n",
    "split_examples = [example for example in examples if example.condition == \"split\"]\n",
    "far_examples = [example for example in examples if example.condition == \"far\"]"
   ]
  },
  {
   "cell_type": "code",
   "execution_count": 7,
   "metadata": {},
   "outputs": [
    {
     "name": "stdout",
     "output_type": "stream",
     "text": [
      " close: 15519\n",
      " split: 15693\n",
      " close: 15519\n"
     ]
    }
   ],
   "source": [
    "print(f\"close: {len(close_examples)}\")\n",
    "print(f\"split: {len(split_examples)}\")\n",
    "print(f\"close: {len(close_examples)}\")"
   ]
  },
  {
   "cell_type": "code",
   "execution_count": 8,
   "metadata": {},
   "outputs": [
    {
     "data": {
      "text/plain": [
       "<BarContainer object of 3 artists>"
      ]
     },
     "execution_count": 8,
     "metadata": {},
     "output_type": "execute_result"
    },
    {
     "data": {
      "image/png": "[encoded data removed]",
      "text/plain": [
       "<Figure size 432x288 with 1 Axes>"
      ]
     },
     "metadata": {
      "needs_background": "light"
     },
     "output_type": "display_data"
    }
   ],
   "source": [
    "plt.bar(\n",
    "    np.arange(3),\n",
    "    height=[len(close_examples), len(split_examples), len(far_examples)],\n",
    "    tick_label = ['close','split','far']\n",
    ")"
   ]
  },
  {
   "cell_type": "markdown",
   "metadata": {},
   "source": [
    "### Number of words used for description"
   ]
  },
  {
   "cell_type": "code",
   "execution_count": 9,
   "metadata": {},
   "outputs": [],
   "source": [
    "description_words = dict()\n",
    "description_words_sorted = dict()\n",
    "tokenizer = BaselineTokenizer()\n",
    "\n",
    "for example in examples:\n",
    "    words = tokenizer.encode(example.contents) # use content tokenizer\n",
    "    description_length = len(words) - 2 # don't count start and end symbols\n",
    "    \n",
    "    if description_length in description_words.keys():\n",
    "        description_words[description_length] += 1\n",
    "    else:\n",
    "        description_words[description_length] = 1\n",
    "        \n",
    "for key in sorted(description_words):\n",
    "    description_words_sorted[key] = description_words[key]\n",
    "        \n",
    "assert np.sum(list(description_words_sorted.values())) == len(examples)"
   ]
  },
  {
   "cell_type": "code",
   "execution_count": 10,
   "metadata": {},
   "outputs": [
    {
     "data": {
      "text/plain": [
       "{1: 19160,\n",
       " 2: 12195,\n",
       " 3: 4055,\n",
       " 4: 2872,\n",
       " 5: 2175,\n",
       " 6: 1697,\n",
       " 7: 1218,\n",
       " 8: 882,\n",
       " 9: 681,\n",
       " 10: 495,\n",
       " 11: 404,\n",
       " 12: 307,\n",
       " 13: 241,\n",
       " 14: 214,\n",
       " 15: 86,\n",
       " 16: 52,\n",
       " 17: 47,\n",
       " 18: 35,\n",
       " 19: 31,\n",
       " 20: 36,\n",
       " 21: 27,\n",
       " 22: 17,\n",
       " 23: 13,\n",
       " 24: 5,\n",
       " 25: 12,\n",
       " 26: 3,\n",
       " 27: 5,\n",
       " 28: 5,\n",
       " 29: 2,\n",
       " 30: 1,\n",
       " 31: 1,\n",
       " 32: 4,\n",
       " 33: 5,\n",
       " 34: 1,\n",
       " 35: 3,\n",
       " 36: 2,\n",
       " 37: 1,\n",
       " 39: 1,\n",
       " 41: 1,\n",
       " 44: 1,\n",
       " 53: 1}"
      ]
     },
     "execution_count": 10,
     "metadata": {},
     "output_type": "execute_result"
    }
   ],
   "source": [
    "description_words_sorted"
   ]
  },
  {
   "cell_type": "code",
   "execution_count": 11,
   "metadata": {},
   "outputs": [
    {
     "data": {
      "image/png": "[encoded data removed]",
      "text/plain": [
       "<Figure size 1296x345.6 with 1 Axes>"
      ]
     },
     "metadata": {
      "needs_background": "light"
     },
     "output_type": "display_data"
    }
   ],
   "source": [
    "plt.figure(figsize=(18, 4.8))\n",
    "plt.bar(\n",
    "    np.arange(len(list(description_words_sorted.keys()))),\n",
    "    height=list(description_words_sorted.values()),\n",
    "    tick_label=list(description_words_sorted.keys())\n",
    ")\n",
    "plt.xticks(rotation=45)\n",
    "plt.show()"
   ]
  },
  {
   "cell_type": "markdown",
   "metadata": {},
   "source": [
    "## Baseline-System"
   ]
  },
  {
   "cell_type": "markdown",
   "metadata": {},
   "source": [
    "This baseline system is based on assignment 4."
   ]
  },
  {
   "cell_type": "code",
   "execution_count": 12,
   "metadata": {},
   "outputs": [],
   "source": [
    "tokenizer = BaselineTokenizer()\n",
    "color_encoder = BaselineColorEncoder()\n",
    "embedding = BaselineEmbedding()"
   ]
  },
  {
   "cell_type": "markdown",
   "metadata": {},
   "source": [
    "### Tiny dataset - baseline system development"
   ]
  },
  {
   "cell_type": "markdown",
   "metadata": {},
   "source": [
    "The tiny dataset is used for baseline model development and fast testing."
   ]
  },
  {
   "cell_type": "code",
   "execution_count": 28,
   "metadata": {},
   "outputs": [],
   "source": [
    "def create_dev_data():\n",
    "    dev_color_seqs, dev_word_seqs, dev_vocab = create_example_dataset(\n",
    "        group_size=50,\n",
    "        vec_dim=2\n",
    "    )\n",
    "\n",
    "    dev_colors_train, dev_colors_test, dev_words_train, dev_words_test = \\\n",
    "        train_test_split(dev_color_seqs, dev_word_seqs)\n",
    "    \n",
    "    return dev_vocab, dev_colors_train, dev_words_train, dev_colors_test, dev_words_test"
   ]
  },
  {
   "cell_type": "code",
   "execution_count": 29,
   "metadata": {},
   "outputs": [],
   "source": [
    "dev_vocab, dev_colors_train, dev_tokens_train, dev_colors_test, dev_texts_test = \\\n",
    "    create_dev_data()"
   ]
  },
  {
   "cell_type": "code",
   "execution_count": 30,
   "metadata": {},
   "outputs": [],
   "source": [
    "dev_glove_embedding, dev_glove_vocab = embedding.create_glove_embedding(dev_vocab)"
   ]
  },
  {
   "cell_type": "code",
   "execution_count": 32,
   "metadata": {},
   "outputs": [],
   "source": [
    "dev_baseline_model = BaselineDescriber(\n",
    "    dev_glove_vocab,\n",
    "    embedding=dev_glove_embedding,\n",
    "    early_stopping=True\n",
    ")"
   ]
  },
  {
   "cell_type": "code",
   "execution_count": 33,
   "metadata": {},
   "outputs": [
    {
     "name": "stderr",
     "output_type": "stream",
     "text": [
      "Stopping after epoch 23. Validation score did not improve by tol=1e-05 for more than 10 epochs. Final error is 1.3588870763778687"
     ]
    },
    {
     "name": "stdout",
     "output_type": "stream",
     "text": [
      "CPU times: user 1.22 s, sys: 132 ms, total: 1.35 s\n",
      "Wall time: 1.38 s\n"
     ]
    }
   ],
   "source": [
    "%time _ = dev_baseline_model.fit(toy_colors_train, toy_tokens_train)"
   ]
  },
  {
   "cell_type": "code",
   "execution_count": 34,
   "metadata": {},
   "outputs": [
    {
     "data": {
      "text/plain": [
       "{'listener_accuracy': 0.47368421052631576, 'corpus_bleu': 0.62819020717699}"
      ]
     },
     "execution_count": 34,
     "metadata": {},
     "output_type": "execute_result"
    }
   ],
   "source": [
    "dev_baseline_model.evaluate(toy_colors_test, toy_texts_test)"
   ]
  },
  {
   "cell_type": "markdown",
   "metadata": {},
   "source": [
    "### Full dataset - model training"
   ]
  },
  {
   "cell_type": "markdown",
   "metadata": {},
   "source": [
    "The full color context dataset is used for final baseline model training."
   ]
  },
  {
   "cell_type": "code",
   "execution_count": 24,
   "metadata": {},
   "outputs": [],
   "source": [
    "def create_data():    \n",
    "    rawcols, texts = zip(*[[ex.colors, ex.contents] for ex in examples])\n",
    "\n",
    "    raw_colors_train, raw_colors_test, texts_train, texts_test = \\\n",
    "        train_test_split(rawcols, texts)\n",
    "\n",
    "    tokens_train = [tokenizer.encode(text) for text in texts_train]\n",
    "    colors_train = [\n",
    "        color_encoder.encode_color_context(colors) for colors in raw_colors_train\n",
    "    ]\n",
    "\n",
    "    vocab = sorted({word for tokens in tokens_train for word in tokens})\n",
    "    vocab += [UNK_SYMBOL]\n",
    "\n",
    "    return vocab, colors_train, tokens_train, raw_colors_test, texts_test"
   ]
  },
  {
   "cell_type": "code",
   "execution_count": 26,
   "metadata": {},
   "outputs": [],
   "source": [
    "vocab, colors_train, tokens_train, raw_colors_test, texts_test = create_data()"
   ]
  },
  {
   "cell_type": "code",
   "execution_count": 27,
   "metadata": {},
   "outputs": [],
   "source": [
    "glove_embedding, glove_vocab = embedding.create_glove_embedding(vocab)"
   ]
  },
  {
   "cell_type": "code",
   "execution_count": 22,
   "metadata": {},
   "outputs": [],
   "source": [
    "baseline_model = BaselineDescriber(\n",
    "    glove_vocab,\n",
    "    embedding=glove_embedding,\n",
    "    early_stopping=True\n",
    ")"
   ]
  },
  {
   "cell_type": "code",
   "execution_count": null,
   "metadata": {},
   "outputs": [],
   "source": [
    "%time _ = baseline_model.fit(colors_train, tokens_train)"
   ]
  },
  {
   "cell_type": "code",
   "execution_count": 19,
   "metadata": {},
   "outputs": [],
   "source": [
    "def evaluate(trained_model, color_seqs_test, texts_test):\n",
    "    tok_seqs = [tokenizer.encode(text) for text in texts_test]\n",
    "    col_seqs = [color_encoder.encode_color_context(colors) for colors in color_seqs_test]\n",
    "\n",
    "    return trained_model.evaluate(col_seqs, tok_seqs)"
   ]
  },
  {
   "cell_type": "code",
   "execution_count": 20,
   "metadata": {},
   "outputs": [
    {
     "data": {
      "text/plain": [
       "{'listener_accuracy': 0.7403183249638267, 'corpus_bleu': 0.4498756333938617}"
      ]
     },
     "execution_count": 20,
     "metadata": {},
     "output_type": "execute_result"
    }
   ],
   "source": [
    "evaluate(baseline_model, raw_colors_test, texts_test)"
   ]
  },
  {
   "cell_type": "markdown",
   "metadata": {},
   "source": [
    "## Experiments"
   ]
  },
  {
   "cell_type": "markdown",
   "metadata": {},
   "source": [
    "### Transformers"
   ]
  },
  {
   "cell_type": "code",
   "execution_count": 21,
   "metadata": {},
   "outputs": [],
   "source": [
    "# transformers experiments"
   ]
  },
  {
   "cell_type": "markdown",
   "metadata": {},
   "source": [
    "### GPT-3: Few-Shot-Learning"
   ]
  },
  {
   "cell_type": "markdown",
   "metadata": {},
   "source": [
    "This section compares the GPT-3 performance with the baseline system as well as the transformer section. GPT-3 uses system conditioning with zero-shot or few-short learning."
   ]
  },
  {
   "cell_type": "code",
   "execution_count": 23,
   "metadata": {},
   "outputs": [
    {
     "name": "stdout",
     "output_type": "stream",
     "text": [
      "\n",
      "Q: Describe the target color of [[131, 154, 100], [163, 90, 164], [135, 211, 43]].\n",
      "A: lime.\n",
      "\n",
      "Q: Describe the target color of [[98, 156, 116], [212, 25, 229], [130, 138, 116]].\n",
      "A: Mud brown.\n",
      "\n",
      "Q: Describe the target color of [[112, 142, 129], [177, 253, 1], [115, 147, 107]].\n",
      "A: Camo green.\n",
      "\n",
      "Q: Describe the target color of [[219, 96, 35], [47, 194, 207], [184, 79, 70]].\n",
      "A: Darkish red.\n",
      "\n",
      "Q: Describe the target color of [[132, 125, 122], [160, 62, 192], [136, 146, 108]].\n",
      "A: One of the brown ones, the lighter shaded one.\n",
      "\n",
      "Q: Describe the target color of [[138, 104, 150], [69, 202, 52], [149, 105, 141]].\n",
      "A: The more vibrantly red one... not the more purple one.\n",
      "\n",
      "Q: Describe the target color of [[106, 172, 82], [223, 31, 210], [118, 137, 117]].\n",
      "A: Like that description? Haha ### Thank you. ### Grey.\n",
      "\n",
      "Q: Describe the target color of [[84, 170, 120], [179, 75, 85], [106, 154, 100]].\n",
      "A: Camo green.\n",
      "\n",
      "Q: Describe the target color of [[133, 123, 121], [253, 177, 1], [127, 130, 124]].\n",
      "A: oopsies. I think they're both a bit neon ### the greyish one that's not the browner one.\n",
      "\n",
      "Q: Describe the target color of [[127, 127, 127], [188, 66, 164], [149, 123, 105]].\n",
      "A: Brown.\n"
     ]
    },
    {
     "data": {
      "image/png": "[encoded data removed]",
      "text/plain": [
       "<Figure size 216x72 with 3 Axes>"
      ]
     },
     "metadata": {
      "needs_background": "light"
     },
     "output_type": "display_data"
    },
    {
     "data": {
      "image/png": "[encoded data removed]",
      "text/plain": [
       "<Figure size 216x72 with 3 Axes>"
      ]
     },
     "metadata": {
      "needs_background": "light"
     },
     "output_type": "display_data"
    },
    {
     "data": {
      "image/png": "[encoded data removed]",
      "text/plain": [
       "<Figure size 216x72 with 3 Axes>"
      ]
     },
     "metadata": {
      "needs_background": "light"
     },
     "output_type": "display_data"
    },
    {
     "data": {
      "image/png": "[encoded data removed]",
      "text/plain": [
       "<Figure size 216x72 with 3 Axes>"
      ]
     },
     "metadata": {
      "needs_background": "light"
     },
     "output_type": "display_data"
    },
    {
     "data": {
      "image/png": "[encoded data removed]",
      "text/plain": [
       "<Figure size 216x72 with 3 Axes>"
      ]
     },
     "metadata": {
      "needs_background": "light"
     },
     "output_type": "display_data"
    },
    {
     "data": {
      "image/png": "[encoded data removed]",
      "text/plain": [
       "<Figure size 216x72 with 3 Axes>"
      ]
     },
     "metadata": {
      "needs_background": "light"
     },
     "output_type": "display_data"
    },
    {
     "data": {
      "image/png": "[encoded data removed]",
      "text/plain": [
       "<Figure size 216x72 with 3 Axes>"
      ]
     },
     "metadata": {
      "needs_background": "light"
     },
     "output_type": "display_data"
    },
    {
     "data": {
      "image/png": "[encoded data removed]",
      "text/plain": [
       "<Figure size 216x72 with 3 Axes>"
      ]
     },
     "metadata": {
      "needs_background": "light"
     },
     "output_type": "display_data"
    },
    {
     "data": {
      "image/png": "[encoded data removed]",
      "text/plain": [
       "<Figure size 216x72 with 3 Axes>"
      ]
     },
     "metadata": {
      "needs_background": "light"
     },
     "output_type": "display_data"
    },
    {
     "data": {
      "image/png": "[encoded data removed]",
      "text/plain": [
       "<Figure size 216x72 with 3 Axes>"
      ]
     },
     "metadata": {
      "needs_background": "light"
     },
     "output_type": "display_data"
    }
   ],
   "source": [
    "# some more experiment with GPT-3 maybe to compare with few-shot-learning\n",
    "\n",
    "# conditioning sequence:\n",
    "#I am a highly intelligent question answering bot that can describe colors with human readable text as precisely as possible. Given an array of three context colors with their RGB (red, green, blue) values, describe the target color in such a way that a human could recognize the target color even if the colors were reordered. The target color is the last color in the array.\n",
    "\n",
    "for example in (split_examples + close_examples)[:10]:\n",
    "    print(f\"\\nQ: Describe the target color of {example.rgb_colors()}.\")\n",
    "    print(f\"A: {example.contents}.\")\n",
    "    example.display(print_contents=False)"
   ]
  },
  {
   "cell_type": "code",
   "execution_count": null,
   "metadata": {},
   "outputs": [],
   "source": []
  }
 ],
 "metadata": {
  "kernelspec": {
   "display_name": "nlu",
   "language": "python",
   "name": "nlu"
  },
  "language_info": {
   "codemirror_mode": {
    "name": "ipython",
    "version": 3
   },
   "file_extension": ".py",
   "mimetype": "text/x-python",
   "name": "python",
   "nbconvert_exporter": "python",
   "pygments_lexer": "ipython3",
   "version": "3.7.9"
  }
 },
 "nbformat": 4,
 "nbformat_minor": 4
}
