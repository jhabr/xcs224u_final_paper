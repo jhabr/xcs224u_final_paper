{
 "cells": [
  {
   "cell_type": "markdown",
   "id": "uniform-budapest",
   "metadata": {},
   "source": [
    "# Load Feature Extractor"
   ]
  },
  {
   "cell_type": "code",
   "execution_count": 2,
   "id": "about-civilian",
   "metadata": {},
   "outputs": [
    {
     "name": "stderr",
     "output_type": "stream",
     "text": [
      "Using cache found in /Users/samuelkahn/.cache/torch/hub/pytorch_vision_v0.6.0\n"
     ]
    }
   ],
   "source": [
    "import torch\n",
    "def load_model_feature_extractor(model_arch='resnet18'):\n",
    "    model = torch.hub.load('pytorch/vision:v0.6.0', model_arch, pretrained=True)\n",
    "    feature_extractor = torch.nn.Sequential(*list(model.children())[:-1])\n",
    "    return feature_extractor\n",
    "\n",
    "feature_extractor = load_model_feature_extractor()"
   ]
  },
  {
   "cell_type": "markdown",
   "id": "subjective-tumor",
   "metadata": {},
   "source": [
    "# Load Data"
   ]
  },
  {
   "cell_type": "code",
   "execution_count": 3,
   "id": "relative-indonesia",
   "metadata": {},
   "outputs": [],
   "source": [
    "import utils\n",
    "import os\n",
    "from torch_color_describer import (ContextualColorDescriber, create_example_dataset)\n",
    "from colors import ColorsCorpusReader\n",
    "from sklearn.model_selection import train_test_split\n",
    "\n",
    "utils.fix_random_seeds()\n",
    "COLORS_SRC_FILENAME = os.path.join(\n",
    "    \"data\", \"colors\", \"filteredCorpus.csv\")\n",
    "\n",
    "dev_corpus = ColorsCorpusReader(\n",
    "    COLORS_SRC_FILENAME,\n",
    "    word_count=2,\n",
    "    normalize_colors=True)\n",
    "\n",
    "dev_examples = list(dev_corpus.read())\n",
    "dev_rawcols, dev_texts = zip(*[[ex.colors, ex.contents] for ex in dev_examples])\n",
    "dev_rawcols_train, dev_rawcols_test, dev_texts_train, dev_texts_test = \\\n",
    "    train_test_split(dev_rawcols, dev_texts)"
   ]
  },
  {
   "cell_type": "markdown",
   "id": "ranking-indonesia",
   "metadata": {},
   "source": [
    "# Convert Color Reps"
   ]
  },
  {
   "cell_type": "code",
   "execution_count": 4,
   "id": "headed-arrangement",
   "metadata": {},
   "outputs": [],
   "source": [
    "import colorsys\n",
    "\n",
    "# Convert from HLS to RGB\n",
    "def convert_color_to_rgb(color):\n",
    "    rgb = colorsys.hls_to_rgb(color[0],color[1],color[2])\n",
    "    return rgb\n",
    "\n",
    "def convert_to_imagenet_input(hsl):\n",
    "    rgb = convert_color_to_rgb(hsl)\n",
    "\n",
    "    r = torch.full((224,224),rgb[0]).unsqueeze(2)\n",
    "    g = torch.full((224,224),rgb[1]).unsqueeze(2)\n",
    "    b = torch.full((224,224),rgb[2]).unsqueeze(2)\n",
    "    expanded_rep = torch.cat((r,g,b),2)\n",
    "    \n",
    "    expanded_rep = expanded_rep.permute(2,1,0).unsqueeze(0)\n",
    "    \n",
    "    return expanded_rep\n",
    "\n",
    "def convert_color_tuple(colors):\n",
    "    converted_colors = [[convert_to_imagenet_input(col) for col in cols] for cols in colors ] \n",
    "    return converted_colors\n",
    "\n",
    "\n",
    "converted_data = convert_color_tuple(dev_rawcols)"
   ]
  },
  {
   "cell_type": "markdown",
   "id": "mathematical-dispatch",
   "metadata": {},
   "source": [
    "# Extract Features - here a batch is a set of 3 colors "
   ]
  },
  {
   "cell_type": "code",
   "execution_count": 5,
   "id": "thrown-memorabilia",
   "metadata": {},
   "outputs": [],
   "source": [
    "def extract_features_from_batch(extractor, examples):\n",
    "    output = extractor(examples)\n",
    "    shape = output.shape\n",
    "    output = output.reshape((shape[0],shape[1]))\n",
    "    return output\n",
    "\n",
    "\n",
    "\n"
   ]
  },
  {
   "cell_type": "markdown",
   "id": "interested-binary",
   "metadata": {},
   "source": [
    "# Do the extraction "
   ]
  },
  {
   "cell_type": "code",
   "execution_count": 28,
   "id": "subjective-fortune",
   "metadata": {},
   "outputs": [
    {
     "name": "stdout",
     "output_type": "stream",
     "text": [
      "Running batch number: 100, Size of array: 0.00087738037109375 Megabytes\n",
      "Running batch number: 200, Size of array: 0.0016021728515625 Megabytes\n",
      "Running batch number: 300, Size of array: 0.0024261474609375 Megabytes\n",
      "Running batch number: 400, Size of array: 0.0031585693359375 Megabytes\n",
      "Running batch number: 500, Size of array: 0.00408172607421875 Megabytes\n",
      "Running batch number: 600, Size of array: 0.0052490234375 Megabytes\n",
      "Running batch number: 700, Size of array: 0.005950927734375 Megabytes\n",
      "Running batch number: 800, Size of array: 0.00673675537109375 Megabytes\n",
      "Running batch number: 900, Size of array: 0.00762176513671875 Megabytes\n",
      "Running batch number: 1000, Size of array: 0.00861358642578125 Megabytes\n",
      "Running batch number: 1100, Size of array: 0.00861358642578125 Megabytes\n",
      "Running batch number: 1200, Size of array: 0.009735107421875 Megabytes\n",
      "Running batch number: 1300, Size of array: 0.01099395751953125 Megabytes\n",
      "Running batch number: 1400, Size of array: 0.01099395751953125 Megabytes\n",
      "Running batch number: 1500, Size of array: 0.01241302490234375 Megabytes\n",
      "Running batch number: 1600, Size of array: 0.01241302490234375 Megabytes\n",
      "Running batch number: 1700, Size of array: 0.014007568359375 Megabytes\n",
      "Running batch number: 1800, Size of array: 0.014007568359375 Megabytes\n",
      "Running batch number: 1900, Size of array: 0.01580047607421875 Megabytes\n",
      "Running batch number: 2000, Size of array: 0.01580047607421875 Megabytes\n",
      "Running batch number: 2100, Size of array: 0.01781463623046875 Megabytes\n",
      "Running batch number: 2200, Size of array: 0.01781463623046875 Megabytes\n",
      "Running batch number: 2300, Size of array: 0.01781463623046875 Megabytes\n",
      "Running batch number: 2400, Size of array: 0.02008056640625 Megabytes\n",
      "Running batch number: 2500, Size of array: 0.02008056640625 Megabytes\n",
      "Running batch number: 2600, Size of array: 0.02008056640625 Megabytes\n",
      "Running batch number: 2700, Size of array: 0.02263641357421875 Megabytes\n",
      "Running batch number: 2800, Size of array: 0.02263641357421875 Megabytes\n",
      "Running batch number: 2900, Size of array: 0.02263641357421875 Megabytes\n",
      "Running batch number: 3000, Size of array: 0.02550506591796875 Megabytes\n",
      "Running batch number: 3100, Size of array: 0.02550506591796875 Megabytes\n",
      "Running batch number: 3200, Size of array: 0.02550506591796875 Megabytes\n",
      "Running batch number: 3300, Size of array: 0.02550506591796875 Megabytes\n",
      "Running batch number: 3400, Size of array: 0.0287322998046875 Megabytes\n",
      "Running batch number: 3500, Size of array: 0.0287322998046875 Megabytes\n",
      "Running batch number: 3600, Size of array: 0.0287322998046875 Megabytes\n",
      "Running batch number: 3700, Size of array: 0.0287322998046875 Megabytes\n",
      "Running batch number: 3800, Size of array: 0.0323638916015625 Megabytes\n",
      "Running batch number: 3900, Size of array: 0.0323638916015625 Megabytes\n",
      "Running batch number: 4000, Size of array: 0.0323638916015625 Megabytes\n",
      "Running batch number: 4100, Size of array: 0.0323638916015625 Megabytes\n",
      "Running batch number: 4200, Size of array: 0.0323638916015625 Megabytes\n",
      "Running batch number: 4300, Size of array: 0.0364532470703125 Megabytes\n",
      "Running batch number: 4400, Size of array: 0.0364532470703125 Megabytes\n",
      "Running batch number: 4500, Size of array: 0.0364532470703125 Megabytes\n",
      "Running batch number: 4600, Size of array: 0.0364532470703125 Megabytes\n",
      "Running batch number: 4700, Size of array: 0.0364532470703125 Megabytes\n",
      "Running batch number: 4800, Size of array: 0.04105377197265625 Megabytes\n",
      "Running batch number: 4900, Size of array: 0.04105377197265625 Megabytes\n",
      "Running batch number: 5000, Size of array: 0.04105377197265625 Megabytes\n",
      "Running batch number: 5100, Size of array: 0.04105377197265625 Megabytes\n",
      "Running batch number: 5200, Size of array: 0.04105377197265625 Megabytes\n",
      "Running batch number: 5300, Size of array: 0.04105377197265625 Megabytes\n",
      "Running batch number: 5400, Size of array: 0.04622650146484375 Megabytes\n",
      "Running batch number: 5500, Size of array: 0.04622650146484375 Megabytes\n",
      "Running batch number: 5600, Size of array: 0.04622650146484375 Megabytes\n",
      "Running batch number: 5700, Size of array: 0.04622650146484375 Megabytes\n",
      "Running batch number: 5800, Size of array: 0.04622650146484375 Megabytes\n",
      "Running batch number: 5900, Size of array: 0.04622650146484375 Megabytes\n",
      "Running batch number: 6000, Size of array: 0.04622650146484375 Megabytes\n",
      "Running batch number: 6100, Size of array: 0.0520477294921875 Megabytes\n",
      "Running batch number: 6200, Size of array: 0.0520477294921875 Megabytes\n",
      "Running batch number: 6300, Size of array: 0.0520477294921875 Megabytes\n",
      "Running batch number: 6400, Size of array: 0.0520477294921875 Megabytes\n",
      "Running batch number: 6500, Size of array: 0.0520477294921875 Megabytes\n",
      "Running batch number: 6600, Size of array: 0.0520477294921875 Megabytes\n",
      "Running batch number: 6700, Size of array: 0.0520477294921875 Megabytes\n",
      "Running batch number: 6800, Size of array: 0.0520477294921875 Megabytes\n",
      "Running batch number: 6900, Size of array: 0.05859375 Megabytes\n",
      "Running batch number: 7000, Size of array: 0.05859375 Megabytes\n",
      "Running batch number: 7100, Size of array: 0.05859375 Megabytes\n",
      "Running batch number: 7200, Size of array: 0.05859375 Megabytes\n",
      "Running batch number: 7300, Size of array: 0.05859375 Megabytes\n",
      "Running batch number: 7400, Size of array: 0.05859375 Megabytes\n",
      "Running batch number: 7500, Size of array: 0.05859375 Megabytes\n",
      "Running batch number: 7600, Size of array: 0.05859375 Megabytes\n",
      "Running batch number: 7700, Size of array: 0.0659637451171875 Megabytes\n",
      "Running batch number: 7800, Size of array: 0.0659637451171875 Megabytes\n",
      "Running batch number: 7900, Size of array: 0.0659637451171875 Megabytes\n",
      "Running batch number: 8000, Size of array: 0.0659637451171875 Megabytes\n",
      "Running batch number: 8100, Size of array: 0.0659637451171875 Megabytes\n",
      "Running batch number: 8200, Size of array: 0.0659637451171875 Megabytes\n",
      "Running batch number: 8300, Size of array: 0.0659637451171875 Megabytes\n",
      "Running batch number: 8400, Size of array: 0.0659637451171875 Megabytes\n",
      "Running batch number: 8500, Size of array: 0.0659637451171875 Megabytes\n",
      "Running batch number: 8600, Size of array: 0.0659637451171875 Megabytes\n",
      "Running batch number: 8700, Size of array: 0.074249267578125 Megabytes\n",
      "Running batch number: 8800, Size of array: 0.074249267578125 Megabytes\n",
      "Running batch number: 8900, Size of array: 0.074249267578125 Megabytes\n",
      "Running batch number: 9000, Size of array: 0.074249267578125 Megabytes\n",
      "Running batch number: 9100, Size of array: 0.074249267578125 Megabytes\n",
      "Running batch number: 9200, Size of array: 0.074249267578125 Megabytes\n",
      "Running batch number: 9300, Size of array: 0.074249267578125 Megabytes\n",
      "Running batch number: 9400, Size of array: 0.074249267578125 Megabytes\n",
      "Running batch number: 9500, Size of array: 0.074249267578125 Megabytes\n",
      "Running batch number: 9600, Size of array: 0.074249267578125 Megabytes\n",
      "Running batch number: 9700, Size of array: 0.074249267578125 Megabytes\n",
      "Running batch number: 9800, Size of array: 0.0835723876953125 Megabytes\n",
      "Running batch number: 9900, Size of array: 0.0835723876953125 Megabytes\n",
      "Running batch number: 10000, Size of array: 0.0835723876953125 Megabytes\n",
      "Running batch number: 10100, Size of array: 0.0835723876953125 Megabytes\n",
      "Running batch number: 10200, Size of array: 0.0835723876953125 Megabytes\n",
      "Running batch number: 10300, Size of array: 0.0835723876953125 Megabytes\n",
      "Running batch number: 10400, Size of array: 0.0835723876953125 Megabytes\n",
      "Running batch number: 10500, Size of array: 0.0835723876953125 Megabytes\n",
      "Running batch number: 10600, Size of array: 0.0835723876953125 Megabytes\n",
      "Running batch number: 10700, Size of array: 0.0835723876953125 Megabytes\n",
      "Running batch number: 10800, Size of array: 0.0835723876953125 Megabytes\n",
      "Running batch number: 10900, Size of array: 0.0835723876953125 Megabytes\n",
      "Running batch number: 11000, Size of array: 0.09406280517578125 Megabytes\n",
      "Running batch number: 11100, Size of array: 0.09406280517578125 Megabytes\n",
      "Running batch number: 11200, Size of array: 0.09406280517578125 Megabytes\n",
      "Running batch number: 11300, Size of array: 0.09406280517578125 Megabytes\n",
      "Running batch number: 11400, Size of array: 0.09406280517578125 Megabytes\n",
      "Running batch number: 11500, Size of array: 0.09406280517578125 Megabytes\n"
     ]
    },
    {
     "name": "stdout",
     "output_type": "stream",
     "text": [
      "Running batch number: 11600, Size of array: 0.09406280517578125 Megabytes\n",
      "Running batch number: 11700, Size of array: 0.09406280517578125 Megabytes\n",
      "Running batch number: 11800, Size of array: 0.09406280517578125 Megabytes\n",
      "Running batch number: 11900, Size of array: 0.09406280517578125 Megabytes\n",
      "Running batch number: 12000, Size of array: 0.09406280517578125 Megabytes\n",
      "Running batch number: 12100, Size of array: 0.09406280517578125 Megabytes\n",
      "Running batch number: 12200, Size of array: 0.09406280517578125 Megabytes\n",
      "Running batch number: 12300, Size of array: 0.09406280517578125 Megabytes\n",
      "Running batch number: 12400, Size of array: 0.105865478515625 Megabytes\n",
      "Running batch number: 12500, Size of array: 0.105865478515625 Megabytes\n",
      "Running batch number: 12600, Size of array: 0.105865478515625 Megabytes\n",
      "Running batch number: 12700, Size of array: 0.105865478515625 Megabytes\n",
      "Running batch number: 12800, Size of array: 0.105865478515625 Megabytes\n",
      "Running batch number: 12900, Size of array: 0.105865478515625 Megabytes\n",
      "Running batch number: 13000, Size of array: 0.105865478515625 Megabytes\n",
      "Running batch number: 13100, Size of array: 0.105865478515625 Megabytes\n",
      "Running batch number: 13200, Size of array: 0.105865478515625 Megabytes\n",
      "Running batch number: 13300, Size of array: 0.105865478515625 Megabytes\n",
      "Running batch number: 13400, Size of array: 0.105865478515625 Megabytes\n",
      "Running batch number: 13500, Size of array: 0.105865478515625 Megabytes\n",
      "Running batch number: 13600, Size of array: 0.105865478515625 Megabytes\n",
      "Running batch number: 13700, Size of array: 0.105865478515625 Megabytes\n",
      "Running batch number: 13800, Size of array: 0.105865478515625 Megabytes\n"
     ]
    }
   ],
   "source": [
    "extracted_features  = []\n",
    "import sys\n",
    "with torch.no_grad():\n",
    "    for colors in converted_data:\n",
    "        # Convert to 3x224x224 matrix\n",
    "        cols_batch = torch.cat((colors[0],\n",
    "                            colors[1],\n",
    "                            colors[2]))\n",
    "        \n",
    "        # Run color through the feature extractor\n",
    "        batch_extraction = extract_features_from_batch(feature_extractor,cols_batch)\n",
    "        \n",
    "        # convert to numpy array\n",
    "        batch_extraction = batch_extraction.numpy()\n",
    "        \n",
    "        # append to list\n",
    "        extracted_features.append(batch_extraction)\n",
    "        \n",
    "        length = len(extracted_features)\n",
    "        \n",
    "        # Print some stats \n",
    "        if length%100==0:\n",
    "            total_size = sys.getsizeof(extracted_features)\n",
    "            print(f\"Running batch number: {length}, Size of array: {total_size/(1024**2)} Megabytes\")\n",
    "            \n",
    "\n"
   ]
  },
  {
   "cell_type": "code",
   "execution_count": 38,
   "id": "tamil-darwin",
   "metadata": {},
   "outputs": [],
   "source": [
    "import pickle\n",
    "pickle.dump( extracted_features, open( \"data/colors/resnet18_color_embeddings.pickle\", \"wb\" ) )"
   ]
  },
  {
   "cell_type": "code",
   "execution_count": 20,
   "id": "inappropriate-buffalo",
   "metadata": {},
   "outputs": [
    {
     "data": {
      "text/plain": [
       "1000000.0"
      ]
     },
     "execution_count": 20,
     "metadata": {},
     "output_type": "execute_result"
    }
   ],
   "source": []
  },
  {
   "cell_type": "code",
   "execution_count": null,
   "id": "productive-pocket",
   "metadata": {},
   "outputs": [],
   "source": []
  }
 ],
 "metadata": {
  "kernelspec": {
   "display_name": "Python 3",
   "language": "python",
   "name": "python3"
  },
  "language_info": {
   "codemirror_mode": {
    "name": "ipython",
    "version": 3
   },
   "file_extension": ".py",
   "mimetype": "text/x-python",
   "name": "python",
   "nbconvert_exporter": "python",
   "pygments_lexer": "ipython3",
   "version": "3.7.9"
  }
 },
 "nbformat": 4,
 "nbformat_minor": 5
}
