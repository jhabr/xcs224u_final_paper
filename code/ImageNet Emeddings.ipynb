{
 "cells": [
  {
   "cell_type": "markdown",
   "id": "thirty-purse",
   "metadata": {},
   "source": [
    "# Load Feature Extractor"
   ]
  },
  {
   "cell_type": "code",
   "execution_count": 73,
   "id": "fluid-discussion",
   "metadata": {},
   "outputs": [
    {
     "name": "stderr",
     "output_type": "stream",
     "text": [
      "Using cache found in /Users/samuelkahn/.cache/torch/hub/pytorch_vision_v0.6.0\n"
     ]
    }
   ],
   "source": [
    "import torch\n",
    "def load_model_feature_extractor(model_arch='resnet18'):\n",
    "    model = torch.hub.load('pytorch/vision:v0.6.0', model_arch, pretrained=True)\n",
    "    feature_extractor = torch.nn.Sequential(*list(model.children())[:-1])\n",
    "    return feature_extractor\n",
    "\n",
    "feature_extractor = load_model_feature_extractor()"
   ]
  },
  {
   "cell_type": "markdown",
   "id": "hidden-conservation",
   "metadata": {},
   "source": [
    "# Load Data"
   ]
  },
  {
   "cell_type": "code",
   "execution_count": 23,
   "id": "received-testimony",
   "metadata": {},
   "outputs": [],
   "source": [
    "import utils\n",
    "import os\n",
    "from torch_color_describer import (ContextualColorDescriber, create_example_dataset)\n",
    "from colors import ColorsCorpusReader\n",
    "from sklearn.model_selection import train_test_split\n",
    "\n",
    "utils.fix_random_seeds()\n",
    "COLORS_SRC_FILENAME = os.path.join(\n",
    "    \"data\", \"colors\", \"filteredCorpus.csv\")\n",
    "\n",
    "dev_corpus = ColorsCorpusReader(\n",
    "    COLORS_SRC_FILENAME,\n",
    "    word_count=2,\n",
    "    normalize_colors=True)\n",
    "\n",
    "dev_examples = list(dev_corpus.read())\n",
    "dev_rawcols, dev_texts = zip(*[[ex.colors, ex.contents] for ex in dev_examples])\n",
    "dev_rawcols_train, dev_rawcols_test, dev_texts_train, dev_texts_test = \\\n",
    "    train_test_split(dev_rawcols, dev_texts)"
   ]
  },
  {
   "cell_type": "markdown",
   "id": "mobile-while",
   "metadata": {},
   "source": [
    "# Convert Color Reps"
   ]
  },
  {
   "cell_type": "code",
   "execution_count": 55,
   "id": "robust-topic",
   "metadata": {},
   "outputs": [],
   "source": [
    "import colorsys\n",
    "\n",
    "# Convert from HLS to RGB\n",
    "def convert_color_to_rgb(color):\n",
    "    rgb = colorsys.hls_to_rgb(color[0],color[1],color[2])\n",
    "    return rgb\n",
    "\n",
    "def convert_to_imagenet_input(hsl):\n",
    "    rgb = convert_color_to_rgb(hsl)\n",
    "\n",
    "    r = torch.full((224,224),rgb[0]).unsqueeze(2)\n",
    "    g = torch.full((224,224),rgb[1]).unsqueeze(2)\n",
    "    b = torch.full((224,224),rgb[2]).unsqueeze(2)\n",
    "    expanded_rep = torch.cat((r,g,b),2)\n",
    "    \n",
    "    expanded_rep = expanded_rep.permute(2,1,0).unsqueeze(0)\n",
    "    \n",
    "    return expanded_rep\n",
    "\n",
    "def convert_color_tuple(colors):\n",
    "    converted_colors = [[convert_to_imagenet_input(col) for col in cols] for cols in colors ] \n",
    "    return converted_colors\n",
    "\n",
    "\n",
    "converted_data = convert_color_tuple(dev_rawcols)"
   ]
  },
  {
   "cell_type": "markdown",
   "id": "resident-theme",
   "metadata": {},
   "source": [
    "# Extract Features - here a batch is a set of 3 colors "
   ]
  },
  {
   "cell_type": "code",
   "execution_count": 105,
   "id": "beneficial-muslim",
   "metadata": {},
   "outputs": [],
   "source": [
    "def extract_features_from_batch(extractor, examples):\n",
    "    output = extractor(examples)\n",
    "    shape = output.shape\n",
    "    output = output.reshape((shape[0],shape[1]))\n",
    "    return output\n",
    "\n",
    "\n",
    "\n"
   ]
  },
  {
   "cell_type": "code",
   "execution_count": null,
   "id": "realistic-algorithm",
   "metadata": {},
   "outputs": [
    {
     "name": "stdout",
     "output_type": "stream",
     "text": [
      "Running batch number: 100\n"
     ]
    }
   ],
   "source": [
    "extracted_features  = []\n",
    "i = 1\n",
    "for colors in converted_data:\n",
    "    cols_batch = torch.cat((colors[0],\n",
    "                            colors[1],\n",
    "                            colors[2]))\n",
    "                           \n",
    "    batch_extraction = extract_features_from_batch(feature_extractor,cols_batch)\n",
    "    extracted_features.append(extracted_features)\n",
    "    if i%100==0:\n",
    "        print(f\"Running batch number: {i}\")\n",
    "    i+=1"
   ]
  },
  {
   "cell_type": "code",
   "execution_count": null,
   "id": "original-shopper",
   "metadata": {},
   "outputs": [],
   "source": []
  }
 ],
 "metadata": {
  "kernelspec": {
   "display_name": "Python 3",
   "language": "python",
   "name": "python3"
  },
  "language_info": {
   "codemirror_mode": {
    "name": "ipython",
    "version": 3
   },
   "file_extension": ".py",
   "mimetype": "text/x-python",
   "name": "python",
   "nbconvert_exporter": "python",
   "pygments_lexer": "ipython3",
   "version": "3.7.9"
  }
 },
 "nbformat": 4,
 "nbformat_minor": 5
}
